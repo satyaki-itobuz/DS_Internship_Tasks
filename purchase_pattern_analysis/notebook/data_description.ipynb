{
 "cells": [
  {
   "cell_type": "code",
   "execution_count": 1,
   "id": "05cc2b6c-8eda-4783-a73a-67b2d4c3042d",
   "metadata": {},
   "outputs": [],
   "source": [
    "import warnings \n",
    "warnings.filterwarnings('ignore')"
   ]
  },
  {
   "cell_type": "markdown",
   "id": "57993863-a2a0-4ec4-8127-22fbccaf34c9",
   "metadata": {},
   "source": [
    "#### Importing Libraries and Datasets"
   ]
  },
  {
   "cell_type": "code",
   "execution_count": 2,
   "id": "cb8c684f-181f-41f9-97b0-f3dcf3b348fa",
   "metadata": {},
   "outputs": [],
   "source": [
    "import pandas as pd"
   ]
  },
  {
   "cell_type": "code",
   "execution_count": 3,
   "id": "11920f95-3bdd-48d1-83bf-d6faec293c91",
   "metadata": {},
   "outputs": [],
   "source": [
    "#Datasets\n",
    "products= pd.read_csv('../Project 1/data/products.csv')\n",
    "orders= pd.read_csv('../Project 1/data/orders.csv')\n",
    "order_products= pd.read_csv('../Project 1/data/order_products.csv')\n",
    "aisles= pd.read_csv('../Project 1/data/aisles.csv')"
   ]
  },
  {
   "cell_type": "markdown",
   "id": "bbca5212-75be-4fad-bcee-72d4565d1b56",
   "metadata": {},
   "source": [
    "### Dataset Description\n",
    "* **products.csv:** Contains details on the products available in the store. Fields include the unique product ID, the aisle in which each product is stored, and the department it belongs to, providing a structured overview of product locations.\n",
    "* **orders.csv:** This dataset records order-specific data. Key fields include unique order and user IDs, the day of the week on which each product was ordered, the maximum number of orders, order frequency by hour, and the number of days since the prior order, giving insights into customer ordering habits and timing.\n",
    "* **order_products.csv:** Provides a breakdown of product details within each order, including order and product IDs, the count of items within each order, and reorder frequency, helping to reveal purchasing patterns and repeat product preferences.\n",
    "* **aisles.csv:** Contains data on aisles, including unique aisle IDs and their names, offering an additional layer of product location within the store's layout."
   ]
  },
  {
   "cell_type": "markdown",
   "id": "068dcb07-be0d-4aa2-b859-05c00a561450",
   "metadata": {},
   "source": [
    "### products.csv Description"
   ]
  },
  {
   "cell_type": "code",
   "execution_count": 20,
   "id": "18bb5c7d-183f-4738-800f-b92dccf12395",
   "metadata": {},
   "outputs": [
    {
     "data": {
      "text/html": [
       "<div>\n",
       "<style scoped>\n",
       "    .dataframe tbody tr th:only-of-type {\n",
       "        vertical-align: middle;\n",
       "    }\n",
       "\n",
       "    .dataframe tbody tr th {\n",
       "        vertical-align: top;\n",
       "    }\n",
       "\n",
       "    .dataframe thead th {\n",
       "        text-align: right;\n",
       "    }\n",
       "</style>\n",
       "<table border=\"1\" class=\"dataframe\">\n",
       "  <thead>\n",
       "    <tr style=\"text-align: right;\">\n",
       "      <th></th>\n",
       "      <th>product_id</th>\n",
       "      <th>product_name</th>\n",
       "      <th>aisle_id</th>\n",
       "      <th>department_id</th>\n",
       "    </tr>\n",
       "  </thead>\n",
       "  <tbody>\n",
       "    <tr>\n",
       "      <th>0</th>\n",
       "      <td>1</td>\n",
       "      <td>Chocolate Sandwich Cookies</td>\n",
       "      <td>61</td>\n",
       "      <td>19</td>\n",
       "    </tr>\n",
       "    <tr>\n",
       "      <th>1</th>\n",
       "      <td>2</td>\n",
       "      <td>All-Seasons Salt</td>\n",
       "      <td>104</td>\n",
       "      <td>13</td>\n",
       "    </tr>\n",
       "    <tr>\n",
       "      <th>2</th>\n",
       "      <td>3</td>\n",
       "      <td>Robust Golden Unsweetened Oolong Tea</td>\n",
       "      <td>94</td>\n",
       "      <td>7</td>\n",
       "    </tr>\n",
       "    <tr>\n",
       "      <th>3</th>\n",
       "      <td>4</td>\n",
       "      <td>Smart Ones Classic Favorites Mini Rigatoni Wit...</td>\n",
       "      <td>38</td>\n",
       "      <td>1</td>\n",
       "    </tr>\n",
       "    <tr>\n",
       "      <th>4</th>\n",
       "      <td>5</td>\n",
       "      <td>Green Chile Anytime Sauce</td>\n",
       "      <td>5</td>\n",
       "      <td>13</td>\n",
       "    </tr>\n",
       "  </tbody>\n",
       "</table>\n",
       "</div>"
      ],
      "text/plain": [
       "   product_id                                       product_name  aisle_id  \\\n",
       "0           1                         Chocolate Sandwich Cookies        61   \n",
       "1           2                                   All-Seasons Salt       104   \n",
       "2           3               Robust Golden Unsweetened Oolong Tea        94   \n",
       "3           4  Smart Ones Classic Favorites Mini Rigatoni Wit...        38   \n",
       "4           5                          Green Chile Anytime Sauce         5   \n",
       "\n",
       "   department_id  \n",
       "0             19  \n",
       "1             13  \n",
       "2              7  \n",
       "3              1  \n",
       "4             13  "
      ]
     },
     "execution_count": 20,
     "metadata": {},
     "output_type": "execute_result"
    }
   ],
   "source": [
    "# Displaying the first 5 rows of the dataset\n",
    "products.head()"
   ]
  },
  {
   "cell_type": "markdown",
   "id": "3ac75402-2cee-4632-bd80-1d71e7bdfc2f",
   "metadata": {},
   "source": [
    "### Key Column Description:\n",
    "* **product_id:** Unique numerical identifier for each product (49,688 total), ensures distinct reference across datasets.\n",
    "* **product_name:** Unique string-based name for each product, but unsuitable for categorical analysis due to high cardinality.\n",
    "* **aisle_id:** Numerical identifier for aisles, ideal for categorical analysis as it groups multiple products by location.\n",
    "* **department_id:** Numerical identifier for product departments, well-suited for categorical analysis and departmental comparisons."
   ]
  },
  {
   "cell_type": "code",
   "execution_count": 24,
   "id": "d7959154-7d54-49e2-801d-a4d9215e25c0",
   "metadata": {},
   "outputs": [
    {
     "data": {
      "text/plain": [
       "product_id       49688\n",
       "product_name     49688\n",
       "aisle_id           134\n",
       "department_id       21\n",
       "dtype: int64"
      ]
     },
     "execution_count": 24,
     "metadata": {},
     "output_type": "execute_result"
    }
   ],
   "source": [
    "#Calculating total unique values for each column\n",
    "products.nunique()"
   ]
  },
  {
   "cell_type": "markdown",
   "id": "8c701b3d-f50f-49f5-9453-30caf038c26f",
   "metadata": {},
   "source": [
    "### Key Insights:\n",
    "* **product_id:** Unique numerical identifier for 49,688 products, used for efficient referencing.\n",
    "* **product_name:** Equal to product_id, gives a unique name to each product.\n",
    "* **aisle_id:** Categorical feature despite being numerical, as it groups products by aisle.\n",
    "* **department_id:** Categorical feature, representing departments that encompass multiple aisles and products."
   ]
  },
  {
   "cell_type": "code",
   "execution_count": 28,
   "id": "6fac06eb-0959-43eb-bdc4-25aa780ad7b3",
   "metadata": {},
   "outputs": [
    {
     "data": {
      "text/plain": [
       "product_id       0\n",
       "product_name     0\n",
       "aisle_id         0\n",
       "department_id    0\n",
       "dtype: int64"
      ]
     },
     "execution_count": 28,
     "metadata": {},
     "output_type": "execute_result"
    }
   ],
   "source": [
    "#Calculating the total missing values for each column\n",
    "products.isna().sum()"
   ]
  },
  {
   "cell_type": "markdown",
   "id": "9c4efc8e-5291-449b-b000-8b3794a993ab",
   "metadata": {},
   "source": [
    "**There are no null or missing values in any columns of this dataset, ensuring data completeness and simplifying the preprocessing steps. This quality facilitates smoother analysis and modeling without the need for imputation or data cleaning related to missing values.**"
   ]
  },
  {
   "cell_type": "code",
   "execution_count": 32,
   "id": "913b539f-59cb-445c-8f1c-7d0ff3f54a4f",
   "metadata": {},
   "outputs": [
    {
     "data": {
      "text/plain": [
       "0"
      ]
     },
     "execution_count": 32,
     "metadata": {},
     "output_type": "execute_result"
    }
   ],
   "source": [
    "#Calculating if there is any duplicate values in the dataset\n",
    "products.duplicated().sum()"
   ]
  },
  {
   "cell_type": "markdown",
   "id": "1ff2f1cb-52fd-46ee-b6d0-a6054eb8d705",
   "metadata": {},
   "source": [
    "**There are no duplicate values in any columns of the dataset, ensuring completeness and simplifying the preprocessing steps. This quality facilitates analysis and modeling without the need for data cleaning related to duplicate values.**"
   ]
  },
  {
   "cell_type": "markdown",
   "id": "8338bde0-59b1-451c-8e3f-010008f6f6b1",
   "metadata": {},
   "source": [
    "### aisles.csv Description"
   ]
  },
  {
   "cell_type": "code",
   "execution_count": 21,
   "id": "0cfff60c-de73-4dad-820b-b0fdf6ab8685",
   "metadata": {},
   "outputs": [
    {
     "data": {
      "text/html": [
       "<div>\n",
       "<style scoped>\n",
       "    .dataframe tbody tr th:only-of-type {\n",
       "        vertical-align: middle;\n",
       "    }\n",
       "\n",
       "    .dataframe tbody tr th {\n",
       "        vertical-align: top;\n",
       "    }\n",
       "\n",
       "    .dataframe thead th {\n",
       "        text-align: right;\n",
       "    }\n",
       "</style>\n",
       "<table border=\"1\" class=\"dataframe\">\n",
       "  <thead>\n",
       "    <tr style=\"text-align: right;\">\n",
       "      <th></th>\n",
       "      <th>aisle_id</th>\n",
       "      <th>aisle</th>\n",
       "    </tr>\n",
       "  </thead>\n",
       "  <tbody>\n",
       "    <tr>\n",
       "      <th>0</th>\n",
       "      <td>1</td>\n",
       "      <td>prepared soups salads</td>\n",
       "    </tr>\n",
       "    <tr>\n",
       "      <th>1</th>\n",
       "      <td>2</td>\n",
       "      <td>specialty cheeses</td>\n",
       "    </tr>\n",
       "    <tr>\n",
       "      <th>2</th>\n",
       "      <td>3</td>\n",
       "      <td>energy granola bars</td>\n",
       "    </tr>\n",
       "    <tr>\n",
       "      <th>3</th>\n",
       "      <td>4</td>\n",
       "      <td>instant foods</td>\n",
       "    </tr>\n",
       "    <tr>\n",
       "      <th>4</th>\n",
       "      <td>5</td>\n",
       "      <td>marinades meat preparation</td>\n",
       "    </tr>\n",
       "  </tbody>\n",
       "</table>\n",
       "</div>"
      ],
      "text/plain": [
       "   aisle_id                       aisle\n",
       "0         1       prepared soups salads\n",
       "1         2           specialty cheeses\n",
       "2         3         energy granola bars\n",
       "3         4               instant foods\n",
       "4         5  marinades meat preparation"
      ]
     },
     "execution_count": 21,
     "metadata": {},
     "output_type": "execute_result"
    }
   ],
   "source": [
    "# Displaying the first 5 rows of the dataset\n",
    "aisles.head()"
   ]
  },
  {
   "cell_type": "markdown",
   "id": "88a403af-b608-493a-a41c-71fffdfec97f",
   "metadata": {},
   "source": [
    "#### Key Column Description:\n",
    "* **aisle_id:** Numerical values treated as categorical, representing unique aisle identifiers with multiple products per aisle.\n",
    "* **aisle:** String names corresponding to aisle_ids, each aisle having a unique name."
   ]
  },
  {
   "cell_type": "code",
   "execution_count": 25,
   "id": "d49f51f3-def8-451e-821f-66e813fc9978",
   "metadata": {},
   "outputs": [
    {
     "data": {
      "text/plain": [
       "aisle_id    134\n",
       "aisle       134\n",
       "dtype: int64"
      ]
     },
     "execution_count": 25,
     "metadata": {},
     "output_type": "execute_result"
    }
   ],
   "source": [
    "#Calculating total unique values for each column\n",
    "aisles.nunique()"
   ]
  },
  {
   "cell_type": "markdown",
   "id": "11f21c1b-6c89-40b9-8aeb-7fcda4145231",
   "metadata": {},
   "source": [
    "* **aisle_id and aisle:** both of them have the same number of unique values indicating each aisle_id re uqinue to an aisle. There are a total of 134 unique values.\n",
    "* There is no need to perform exploratory data analysis as this data only gives information about the names and IDs of the aisles."
   ]
  },
  {
   "cell_type": "code",
   "execution_count": 29,
   "id": "e34dfe5a-d027-48f1-a21b-386565fc1ff9",
   "metadata": {},
   "outputs": [
    {
     "data": {
      "text/plain": [
       "aisle_id    0\n",
       "aisle       0\n",
       "dtype: int64"
      ]
     },
     "execution_count": 29,
     "metadata": {},
     "output_type": "execute_result"
    }
   ],
   "source": [
    "#Calculating the total missing values for each column\n",
    "aisles.isna().sum()"
   ]
  },
  {
   "cell_type": "markdown",
   "id": "4be67dfc-6f67-48b3-b09e-ce59552cb7cc",
   "metadata": {},
   "source": [
    "**There are no null or missing values in any columns of this dataset, ensuring data completeness and simplifying the preprocessing steps. This quality facilitates smoother analysis and modeling without the need for imputation or data cleaning related to missing values.** "
   ]
  },
  {
   "cell_type": "code",
   "execution_count": 33,
   "id": "dc29e9e8-def9-458e-b059-4c75e7eea9a9",
   "metadata": {},
   "outputs": [
    {
     "data": {
      "text/plain": [
       "0"
      ]
     },
     "execution_count": 33,
     "metadata": {},
     "output_type": "execute_result"
    }
   ],
   "source": [
    "#Calculating if there is any duplicate values in the dataset\n",
    "aisles.duplicated().sum()"
   ]
  },
  {
   "cell_type": "markdown",
   "id": "9109160b-d76b-4c88-9d7b-d8e62002dc64",
   "metadata": {},
   "source": [
    "**There are no duplicate values in any columns of the dataset, ensuring completeness and simplifying the preprocessing steps. This quality facilitates analysis and modeling without the need for data cleaning related to duplicate values.**"
   ]
  },
  {
   "cell_type": "markdown",
   "id": "179e8cb7-12c3-4b35-bbb2-032aa919616d",
   "metadata": {},
   "source": [
    "### orders.csv Description"
   ]
  },
  {
   "cell_type": "code",
   "execution_count": 22,
   "id": "66596507-054c-45bc-8e32-59b8fbdbad4e",
   "metadata": {},
   "outputs": [
    {
     "data": {
      "text/html": [
       "<div>\n",
       "<style scoped>\n",
       "    .dataframe tbody tr th:only-of-type {\n",
       "        vertical-align: middle;\n",
       "    }\n",
       "\n",
       "    .dataframe tbody tr th {\n",
       "        vertical-align: top;\n",
       "    }\n",
       "\n",
       "    .dataframe thead th {\n",
       "        text-align: right;\n",
       "    }\n",
       "</style>\n",
       "<table border=\"1\" class=\"dataframe\">\n",
       "  <thead>\n",
       "    <tr style=\"text-align: right;\">\n",
       "      <th></th>\n",
       "      <th>order_id</th>\n",
       "      <th>user_id</th>\n",
       "      <th>eval_set</th>\n",
       "      <th>order_number</th>\n",
       "      <th>order_dow</th>\n",
       "      <th>order_hour_of_day</th>\n",
       "      <th>days_since_prior_order</th>\n",
       "    </tr>\n",
       "  </thead>\n",
       "  <tbody>\n",
       "    <tr>\n",
       "      <th>0</th>\n",
       "      <td>2539329</td>\n",
       "      <td>1</td>\n",
       "      <td>prior</td>\n",
       "      <td>1</td>\n",
       "      <td>2</td>\n",
       "      <td>8</td>\n",
       "      <td>NaN</td>\n",
       "    </tr>\n",
       "    <tr>\n",
       "      <th>1</th>\n",
       "      <td>2398795</td>\n",
       "      <td>1</td>\n",
       "      <td>prior</td>\n",
       "      <td>2</td>\n",
       "      <td>3</td>\n",
       "      <td>7</td>\n",
       "      <td>15.0</td>\n",
       "    </tr>\n",
       "    <tr>\n",
       "      <th>2</th>\n",
       "      <td>473747</td>\n",
       "      <td>1</td>\n",
       "      <td>prior</td>\n",
       "      <td>3</td>\n",
       "      <td>3</td>\n",
       "      <td>12</td>\n",
       "      <td>21.0</td>\n",
       "    </tr>\n",
       "    <tr>\n",
       "      <th>3</th>\n",
       "      <td>2254736</td>\n",
       "      <td>1</td>\n",
       "      <td>prior</td>\n",
       "      <td>4</td>\n",
       "      <td>4</td>\n",
       "      <td>7</td>\n",
       "      <td>29.0</td>\n",
       "    </tr>\n",
       "    <tr>\n",
       "      <th>4</th>\n",
       "      <td>431534</td>\n",
       "      <td>1</td>\n",
       "      <td>prior</td>\n",
       "      <td>5</td>\n",
       "      <td>4</td>\n",
       "      <td>15</td>\n",
       "      <td>28.0</td>\n",
       "    </tr>\n",
       "  </tbody>\n",
       "</table>\n",
       "</div>"
      ],
      "text/plain": [
       "   order_id  user_id eval_set  order_number  order_dow  order_hour_of_day  \\\n",
       "0   2539329        1    prior             1          2                  8   \n",
       "1   2398795        1    prior             2          3                  7   \n",
       "2    473747        1    prior             3          3                 12   \n",
       "3   2254736        1    prior             4          4                  7   \n",
       "4    431534        1    prior             5          4                 15   \n",
       "\n",
       "   days_since_prior_order  \n",
       "0                     NaN  \n",
       "1                    15.0  \n",
       "2                    21.0  \n",
       "3                    29.0  \n",
       "4                    28.0  "
      ]
     },
     "execution_count": 22,
     "metadata": {},
     "output_type": "execute_result"
    }
   ],
   "source": [
    "# Displaying the first 5 rows of the dataset\n",
    "orders.head()"
   ]
  },
  {
   "cell_type": "markdown",
   "id": "095351f4-660c-4e0f-865f-e83dd7da4d91",
   "metadata": {},
   "source": [
    "### Key Column Description: \n",
    "orders.csv dataset contains the following features:\n",
    "* **order_id:** This feature contains the order ID for each order placed by a user. Each ID is unique to an order regardless whether the same items were ordered more than once.\n",
    "* **user_id:** This feature contains the IDs of the users of the shopping site. Each user has a unique ID. IDs are seemingly repeating itself meaning that a user may have ordered multiple times.\n",
    "* **eval_set:** This feature is irrelevant as it divides the dataset into three categories \"prior\", \"train\", and \"test\", which do not hold any relevance to the topic of concern. \n",
    "* **order_number:** This feature informs about the number of times a user has ordered from the store. This feature is important as it describes a user's engagement with the store, in turn, giving insights about their trust on the store.\n",
    "* **order_dow:** This feature informs on which day of the week the order was placed. This feature informs about when the store can be busy, requiring higher employee and delivery availability.\n",
    "* **order_hour_of_day:** This feature informs at which hour of the day the purchase has been made. This informs about at what time of the day, the store requires more employees to meet the demands of the orders.\n",
    "* **days_since_prior_order:** This feature informs about how the time span between two purchases of each user. This informs about how often a product is required by users to ensure availability."
   ]
  },
  {
   "cell_type": "code",
   "execution_count": 26,
   "id": "5ffa420c-1aa6-441c-9bd2-d7a02e5d44ea",
   "metadata": {},
   "outputs": [
    {
     "data": {
      "text/plain": [
       "order_id                  3421083\n",
       "user_id                    206209\n",
       "eval_set                        3\n",
       "order_number                  100\n",
       "order_dow                       7\n",
       "order_hour_of_day              24\n",
       "days_since_prior_order         31\n",
       "dtype: int64"
      ]
     },
     "execution_count": 26,
     "metadata": {},
     "output_type": "execute_result"
    }
   ],
   "source": [
    "#Calculating total unique values for each column\n",
    "orders.nunique()"
   ]
  },
  {
   "cell_type": "markdown",
   "id": "d0ad3cc4-5677-48d9-89bf-92902d8973d2",
   "metadata": {},
   "source": [
    "### Key Insights:\n",
    "* **order_id:** 3,421,083 unique orders, indicating a high volume of transactions.\n",
    "* **user_id:** 206,209 unique users, suggesting multiple orders per user.\n",
    "* **order_number:** 100 unique values, possibly indicating the max number of items per order.\n",
    "* **order_dow:** 7 unique values, representing the 7 days of the week.\n",
    "* **order_hour_of_day:** 24 unique values, indicating purchases throughout the day.\n",
    "* **days_since_prior_order:** 32 unique values, reflecting varying time gaps between orders."
   ]
  },
  {
   "cell_type": "code",
   "execution_count": 30,
   "id": "81fd6b9c-729c-43de-95c4-470e3e1a02c6",
   "metadata": {},
   "outputs": [
    {
     "data": {
      "text/plain": [
       "order_id                       0\n",
       "user_id                        0\n",
       "eval_set                       0\n",
       "order_number                   0\n",
       "order_dow                      0\n",
       "order_hour_of_day              0\n",
       "days_since_prior_order    206209\n",
       "dtype: int64"
      ]
     },
     "execution_count": 30,
     "metadata": {},
     "output_type": "execute_result"
    }
   ],
   "source": [
    "#Calculating the total missing values for each column\n",
    "orders.isna().sum()"
   ]
  },
  {
   "cell_type": "markdown",
   "id": "0e2269dc-a1af-4ac3-8d48-e75e91d520f5",
   "metadata": {},
   "source": [
    "### Key Insights:\n",
    "\n",
    "* There are no missing values in the features except in days_since_prior_order.\n",
    "* There are a total of 206209 missing values in the dataset.\n",
    "* However these values cannot be dropped as at number of missing data is too large. Moreover, a person could be ordering for the first time or after a very long time which has not been registered."
   ]
  },
  {
   "cell_type": "code",
   "execution_count": 34,
   "id": "7d6e45bf-dd0b-42be-a754-cec736beb3c7",
   "metadata": {},
   "outputs": [
    {
     "data": {
      "text/plain": [
       "0"
      ]
     },
     "execution_count": 34,
     "metadata": {},
     "output_type": "execute_result"
    }
   ],
   "source": [
    "#Calculating if there is any duplicate values in the dataset\n",
    "orders.duplicated().sum()"
   ]
  },
  {
   "cell_type": "markdown",
   "id": "1894fad4-7ce3-411a-bb2c-beba16dbc144",
   "metadata": {},
   "source": [
    "**There are no duplicate values in any columns of the dataset, ensuring completeness and simplifying the preprocessing steps. This quality facilitates analysis and modeling without the need for data cleaning related to duplicate values.**"
   ]
  },
  {
   "cell_type": "markdown",
   "id": "122cf602-9511-4d50-b2ce-adb969ef697c",
   "metadata": {},
   "source": [
    "### order_products.csv Description"
   ]
  },
  {
   "cell_type": "code",
   "execution_count": 23,
   "id": "e9354205-66ce-4107-86bf-34faf1a7f626",
   "metadata": {},
   "outputs": [
    {
     "data": {
      "text/html": [
       "<div>\n",
       "<style scoped>\n",
       "    .dataframe tbody tr th:only-of-type {\n",
       "        vertical-align: middle;\n",
       "    }\n",
       "\n",
       "    .dataframe tbody tr th {\n",
       "        vertical-align: top;\n",
       "    }\n",
       "\n",
       "    .dataframe thead th {\n",
       "        text-align: right;\n",
       "    }\n",
       "</style>\n",
       "<table border=\"1\" class=\"dataframe\">\n",
       "  <thead>\n",
       "    <tr style=\"text-align: right;\">\n",
       "      <th></th>\n",
       "      <th>order_id</th>\n",
       "      <th>product_id</th>\n",
       "      <th>add_to_cart_order</th>\n",
       "      <th>reordered</th>\n",
       "    </tr>\n",
       "  </thead>\n",
       "  <tbody>\n",
       "    <tr>\n",
       "      <th>0</th>\n",
       "      <td>2</td>\n",
       "      <td>33120</td>\n",
       "      <td>1</td>\n",
       "      <td>1</td>\n",
       "    </tr>\n",
       "    <tr>\n",
       "      <th>1</th>\n",
       "      <td>2</td>\n",
       "      <td>28985</td>\n",
       "      <td>2</td>\n",
       "      <td>1</td>\n",
       "    </tr>\n",
       "    <tr>\n",
       "      <th>2</th>\n",
       "      <td>2</td>\n",
       "      <td>9327</td>\n",
       "      <td>3</td>\n",
       "      <td>0</td>\n",
       "    </tr>\n",
       "    <tr>\n",
       "      <th>3</th>\n",
       "      <td>2</td>\n",
       "      <td>45918</td>\n",
       "      <td>4</td>\n",
       "      <td>1</td>\n",
       "    </tr>\n",
       "    <tr>\n",
       "      <th>4</th>\n",
       "      <td>2</td>\n",
       "      <td>30035</td>\n",
       "      <td>5</td>\n",
       "      <td>0</td>\n",
       "    </tr>\n",
       "  </tbody>\n",
       "</table>\n",
       "</div>"
      ],
      "text/plain": [
       "   order_id  product_id  add_to_cart_order  reordered\n",
       "0         2       33120                  1          1\n",
       "1         2       28985                  2          1\n",
       "2         2        9327                  3          0\n",
       "3         2       45918                  4          1\n",
       "4         2       30035                  5          0"
      ]
     },
     "execution_count": 23,
     "metadata": {},
     "output_type": "execute_result"
    }
   ],
   "source": [
    "# Displaying the first 5 rows of the dataset\n",
    "order_products.head()"
   ]
  },
  {
   "cell_type": "markdown",
   "id": "6e1dab95-8540-4af5-8feb-0a6e3f97c6ef",
   "metadata": {},
   "source": [
    "#### Key Column Description:\n",
    "* **order_id:** This feature contains the order ID for each order placed by a user. The repititon of the numbers may indicate the relation with product_id where the the repitions represent which products are present in the particular \n",
    "* **product_id:** This is a numerical feature that are unique for each product. \n",
    "* **add_to_cart_order:** This feature informs about the priority of the product in the user's cart. The value depicts at which level the product is in the cart.\n",
    "* **reordered:** This feature informs whether a particular product was reordered or not. This is a categorical feature."
   ]
  },
  {
   "cell_type": "code",
   "execution_count": 27,
   "id": "7cf91ce6-d132-4b5e-879e-1d0f0fd55dc1",
   "metadata": {},
   "outputs": [
    {
     "data": {
      "text/plain": [
       "order_id             3214874\n",
       "product_id             49677\n",
       "add_to_cart_order        145\n",
       "reordered                  2\n",
       "dtype: int64"
      ]
     },
     "execution_count": 27,
     "metadata": {},
     "output_type": "execute_result"
    }
   ],
   "source": [
    "#Calculating total unique values for each column\n",
    "order_products.nunique()"
   ]
  },
  {
   "cell_type": "markdown",
   "id": "827a17b3-d443-483e-a829-f0e5317afcbd",
   "metadata": {},
   "source": [
    "#### Key Insights:\n",
    "* **order_id:** This feature has a total of 3214874 unique values indicating there could be repeating values present.\n",
    "* **product_id:** This feature has a total of 49677 unique values. So, it is considered a numerical feature.\n",
    "* **add_to_cart_order:** This feature has 145 unique values which could be considered a categorical variable.\n",
    "* **Reordered:** This has 2 unique features indicating it is a categorical variable. "
   ]
  },
  {
   "cell_type": "code",
   "execution_count": 31,
   "id": "6d837d6e-63c7-4f85-ae42-74992633a54f",
   "metadata": {},
   "outputs": [
    {
     "data": {
      "text/plain": [
       "order_id             0\n",
       "product_id           0\n",
       "add_to_cart_order    0\n",
       "reordered            0\n",
       "dtype: int64"
      ]
     },
     "execution_count": 31,
     "metadata": {},
     "output_type": "execute_result"
    }
   ],
   "source": [
    "#Calculating the total missing values for each column\n",
    "order_products.isna().sum()"
   ]
  },
  {
   "cell_type": "markdown",
   "id": "98b4d47c-cea0-4f83-b8d9-7ac040eae02e",
   "metadata": {},
   "source": [
    "**There are no null or missing values in any columns of this dataset, ensuring data completeness and simplifying the preprocessing steps. This quality facilitates smoother analysis and modeling without the need for imputation or data cleaning related to missing values.**"
   ]
  },
  {
   "cell_type": "code",
   "execution_count": 35,
   "id": "20c4fee3-0edb-49ea-bb24-5594eb62c8fb",
   "metadata": {},
   "outputs": [
    {
     "data": {
      "text/plain": [
       "0"
      ]
     },
     "execution_count": 35,
     "metadata": {},
     "output_type": "execute_result"
    }
   ],
   "source": [
    "#Calculating if there is any duplicate values in the dataset\n",
    "order_products.duplicated().sum()"
   ]
  },
  {
   "cell_type": "markdown",
   "id": "43cd6ca6-bb61-4a0f-bfa4-2d9034d2d28a",
   "metadata": {},
   "source": [
    "**There are no duplicate values in any columns of the dataset, ensuring completeness and simplifying the preprocessing steps. This quality facilitates analysis and modeling without the need for data cleaning related to duplicate values.**"
   ]
  },
  {
   "cell_type": "markdown",
   "id": "c1e8aee2-5ef1-4c8a-bf15-b7471b1ccf3a",
   "metadata": {},
   "source": [
    "## Conclusion"
   ]
  },
  {
   "cell_type": "markdown",
   "id": "db697c31-a4ed-4171-ae5a-b6bf87422dd7",
   "metadata": {},
   "source": [
    "The dataset contains over 3.2 million unique orders and 49,677 products, with each order linked to one or more products. Features like add_to_cart_order and reordered help analyze product prioritization and repeat purchases. Temporal features (order day, hour, and time since last order) offer insights into user behavior, though days_since_prior_order has 206,209 missing values, likely due to first-time or infrequent orders. Overall, the data is comprehensive for understanding user purchasing patterns, with missing values in days_since_prior_order not significantly affecting analysis."
   ]
  }
 ],
 "metadata": {
  "kernelspec": {
   "display_name": "Python 3 (ipykernel)",
   "language": "python",
   "name": "python3"
  },
  "language_info": {
   "codemirror_mode": {
    "name": "ipython",
    "version": 3
   },
   "file_extension": ".py",
   "mimetype": "text/x-python",
   "name": "python",
   "nbconvert_exporter": "python",
   "pygments_lexer": "ipython3",
   "version": "3.12.4"
  }
 },
 "nbformat": 4,
 "nbformat_minor": 5
}
