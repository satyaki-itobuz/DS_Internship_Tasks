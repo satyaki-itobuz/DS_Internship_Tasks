{
 "cells": [
  {
   "cell_type": "markdown",
   "id": "0957e07c-349b-477e-b30c-9bd09c3c321b",
   "metadata": {},
   "source": [
    "## **Dependencies**"
   ]
  },
  {
   "cell_type": "code",
   "execution_count": null,
   "id": "a3bcfba1-766e-4a1c-85b3-01bca4551a9a",
   "metadata": {},
   "outputs": [],
   "source": [
    "#Required Dependencies\n",
    "import numpy as np\n",
    "import pandas as pd\n",
    "import matplotlib.pyplot as plt\n",
    "import seaborn as sns\n",
    "\n",
    "from scipy import stats\n",
    "\n",
    "from sklearn.preprocessing import OrdinalEncoder\n",
    "from sklearn.linear_model import LogisticRegression\n",
    "from sklearn.model_selection import train_test_split\n",
    "from sklearn.preprocessing import StandardScaler\n",
    "\n",
    "import warnings\n",
    "warnings.filterwarnings(action='ignore')"
   ]
  },
  {
   "cell_type": "markdown",
   "id": "cf23084a-7e4b-45b2-a090-bfa771be4e78",
   "metadata": {},
   "source": [
    "## **Data Loading**"
   ]
  },
  {
   "cell_type": "code",
   "execution_count": null,
   "id": "325e5ebc-30fd-46a4-8c7d-1b224e556279",
   "metadata": {},
   "outputs": [],
   "source": [
    "# Loading the datasets\n",
    "order_products = pd.read_csv(\"../data/order_products.csv\")\n",
    "orders = pd.read_csv(\"../data/orders.csv\")\n",
    "products = pd.read_csv(\"../data/products.csv\")\n",
    "aisle_data = pd.read_csv(\"../data/aisles.csv\")\n",
    "departments = pd.read_csv(\"../data/departments.csv\")"
   ]
  },
  {
   "cell_type": "markdown",
   "id": "89e5f93e-6341-420a-b4e1-5c5cec1cffee",
   "metadata": {},
   "source": [
    "## **Data Merging**"
   ]
  },
  {
   "cell_type": "code",
   "execution_count": null,
   "id": "10d4562d-acef-4748-b000-f5f32fce43ab",
   "metadata": {},
   "outputs": [],
   "source": [
    "# Merge aisles and departments with products for more descriptive product information\n",
    "products       = products.merge(aisle_data, \n",
    "                                on  = 'aisle_id', \n",
    "                                how = 'left')\n",
    "\n",
    "products       = products.merge(departments, \n",
    "                                on  = 'department_id', \n",
    "                                how = 'left')\n",
    "\n",
    "# Drop any columns from order_products that will be duplicated by the merge\n",
    "order_products = order_products.drop(columns = ['product_name', 'aisle_id', 'department_id'], \n",
    "                                     errors  = 'ignore')\n",
    "\n",
    "# Now merge order_products with the enriched products dataset\n",
    "order_products = order_products.merge(products, \n",
    "                                      on  = 'product_id', \n",
    "                                      how = 'left')\n",
    "\n",
    "# Select only necessary columns from orders to avoid duplication during the merge\n",
    "req_orders     = orders[['order_id', \n",
    "                         'user_id', \n",
    "                         'eval_set', \n",
    "                         'order_number', \n",
    "                         'order_dow', \n",
    "                         'order_hour_of_day', \n",
    "                         'days_since_prior_order']]\n",
    "\n",
    "# Merge order_products with orders to add order details to each product\n",
    "merged_df      = order_products.merge(req_orders, \n",
    "                                      on  = 'order_id', \n",
    "                                      how = 'left')"
   ]
  },
  {
   "cell_type": "code",
   "execution_count": null,
   "id": "08c8d015-a81e-4f87-9c24-1f1317898797",
   "metadata": {},
   "outputs": [],
   "source": [
    "# Preview of the data\n",
    "merged_df"
   ]
  },
  {
   "cell_type": "markdown",
   "id": "443f713b-38da-4119-b285-de24e3d085e3",
   "metadata": {},
   "source": [
    "## **Checking for Missing Values**"
   ]
  },
  {
   "cell_type": "code",
   "execution_count": null,
   "id": "1664babf-8406-440a-b4e9-01f09d676d13",
   "metadata": {},
   "outputs": [],
   "source": [
    "# Checking for null values\n",
    "merged_df.isnull().sum()"
   ]
  },
  {
   "cell_type": "code",
   "execution_count": null,
   "id": "e5a02417-9a30-4afe-ac5a-89fce4ec0a9e",
   "metadata": {},
   "outputs": [],
   "source": [
    "# Missing value treatment of for the feature days_since_prior_order\n",
    "merged_df['days_since_prior_order'] = merged_df.days_since_prior_order.fillna(-1)"
   ]
  },
  {
   "cell_type": "code",
   "execution_count": null,
   "id": "80eb3a4e-0890-4c90-949d-a0906266dc9a",
   "metadata": {},
   "outputs": [],
   "source": [
    "merged_df.days_since_prior_order = merged_df.days_since_prior_order+1"
   ]
  },
  {
   "cell_type": "code",
   "execution_count": null,
   "id": "ae293b59-a5a9-416f-9237-1a34cf067cfc",
   "metadata": {},
   "outputs": [],
   "source": [
    "merged_df.isnull().sum()"
   ]
  },
  {
   "cell_type": "markdown",
   "id": "5431eb09-a29d-4ad3-a77c-fbe9a2ef1d5b",
   "metadata": {},
   "source": [
    "## **Stratified Sampling**"
   ]
  },
  {
   "cell_type": "code",
   "execution_count": null,
   "id": "6ff8c318-54f6-4b09-99a6-2470ebbd8019",
   "metadata": {},
   "outputs": [],
   "source": [
    "# Sampling the data using the stratified sampling\n",
    "def stratified_sample(df, stratify_col, frac):\n",
    "    stratified_df = df.groupby(stratify_col, group_keys=False).apply(lambda x: x.sample(frac=frac, random_state=42))\n",
    "    stratified_df = stratified_df.reset_index(drop=True)\n",
    "    return stratified_df\n",
    "\n",
    "sampled_data = stratified_sample(merged_df,'reordered',0.3)"
   ]
  },
  {
   "cell_type": "code",
   "execution_count": null,
   "id": "e465ef35-3f64-4777-abdd-fb0c5d94ab7a",
   "metadata": {},
   "outputs": [],
   "source": [
    "sampled_data"
   ]
  },
  {
   "cell_type": "code",
   "execution_count": null,
   "id": "07155a09-70a5-4b2c-9c12-f8efb48260a5",
   "metadata": {},
   "outputs": [],
   "source": [
    "sampled_data.isnull().sum()"
   ]
  },
  {
   "cell_type": "markdown",
   "id": "ce1fab83-be93-4691-816b-5da01d7fa9de",
   "metadata": {},
   "source": [
    "## **Data Preprocessing**"
   ]
  },
  {
   "cell_type": "code",
   "execution_count": null,
   "id": "ae36e903-8cc5-4251-8202-f873b8f9f318",
   "metadata": {},
   "outputs": [],
   "source": [
    "sampled_data.columns"
   ]
  },
  {
   "cell_type": "markdown",
   "id": "c4f307cf-39dc-4d72-953a-af1f0eae97e9",
   "metadata": {},
   "source": [
    "#### **Applying Target Encoding of aisle, department, product_name**"
   ]
  },
  {
   "cell_type": "code",
   "execution_count": null,
   "id": "07bd035f-9cdb-48ac-b464-e2508ac4d089",
   "metadata": {},
   "outputs": [],
   "source": [
    "sampled_data['aisle_target_enc']        = sampled_data['aisle'].map(sampled_data.groupby('aisle')['reordered'].mean())\n",
    "sampled_data['department_target_enc']   = sampled_data['department'].map(sampled_data.groupby('department')['reordered'].mean())\n",
    "sampled_data['product_name_target_enc'] = sampled_data['product_name'].map(sampled_data.groupby('product_name')['reordered'].mean())\n",
    "\n",
    "sampled_data"
   ]
  },
  {
   "cell_type": "markdown",
   "id": "fdd83095-1324-425e-b5b3-e211c3108e1c",
   "metadata": {},
   "source": [
    "#### **Applying One-hot Encoding on day_of_week**"
   ]
  },
  {
   "cell_type": "code",
   "execution_count": null,
   "id": "8a545470-26bf-44cf-9a0c-875ee5f22a5e",
   "metadata": {},
   "outputs": [],
   "source": [
    "day_of_week_dummies = pd.get_dummies(sampled_data['order_dow'], prefix='dow').astype(int)\n",
    "\n",
    "sampled_data = pd.concat([sampled_data, day_of_week_dummies], axis=1)\n",
    "\n",
    "sampled_data"
   ]
  },
  {
   "cell_type": "markdown",
   "id": "75bd7885-4018-40a7-8cd2-d54c4c070022",
   "metadata": {},
   "source": [
    "#### **Applying Cyclic Encoding and Perfoming Sin Cosine Transformation on order_hour_of_day**"
   ]
  },
  {
   "cell_type": "code",
   "execution_count": null,
   "id": "aca127fb-f75f-45c8-9e1b-37b037ca1361",
   "metadata": {},
   "outputs": [],
   "source": [
    "sampled_data['order_hour_sin'] = np.sin(2 * np.pi * sampled_data['order_hour_of_day'] / 24)\n",
    "sampled_data['order_hour_cos'] = np.cos(2 * np.pi * sampled_data['order_hour_of_day'] / 24)\n",
    "\n",
    "sampled_data"
   ]
  },
  {
   "cell_type": "markdown",
   "id": "483d9613-dbc3-47e4-9379-ac27ebf27a4d",
   "metadata": {},
   "source": [
    "#### **Applying Ordinal Encoding on add_to_card_order**"
   ]
  },
  {
   "cell_type": "code",
   "execution_count": null,
   "id": "024a7ff6-1f06-4dcf-958b-9d97ba1a2999",
   "metadata": {},
   "outputs": [],
   "source": [
    "ordinal_encoder = OrdinalEncoder()\n",
    "\n",
    "sampled_data['add_to_cart_order_encoded'] = ordinal_encoder.fit_transform(sampled_data[['add_to_cart_order']])\n",
    "\n",
    "sampled_data"
   ]
  },
  {
   "cell_type": "markdown",
   "id": "0d4176b7-e58f-44b4-a7cd-dc000b1be3ba",
   "metadata": {},
   "source": [
    "#### **Apply Binning on day_since_prior_order**"
   ]
  },
  {
   "cell_type": "code",
   "execution_count": null,
   "id": "f1702f14-12e5-4938-815c-24841bdeb021",
   "metadata": {},
   "outputs": [],
   "source": [
    "sampled_data['days_since_prior_order_temp']   = sampled_data['days_since_prior_order'] - 1\n",
    "\n",
    "sampled_data['days_since_prior_order_binned'] = pd.cut(\n",
    "    sampled_data['days_since_prior_order_temp'], \n",
    "    bins   = [-1, 7, 15, 23, 31], \n",
    "    labels = ['0-7', '8-15', '16-23', '24-31'], \n",
    "    right  = True\n",
    ")\n",
    "\n",
    "sampled_data['days_since_prior_order_binned'] = sampled_data['days_since_prior_order_binned'].cat.add_categories('Unknown')\n",
    "\n",
    "sampled_data.loc[sampled_data['days_since_prior_order_binned'].isna(), 'days_since_prior_order_binned'] = 'Unknown'\n",
    "\n",
    "sampled_data.drop(columns = ['days_since_prior_order_temp'], inplace = True)\n",
    "\n",
    "sampled_data"
   ]
  },
  {
   "cell_type": "markdown",
   "id": "fc7b55d7-3a6e-4d54-ae6e-ac141e5142ca",
   "metadata": {},
   "source": [
    "## **Feature Engineering**"
   ]
  },
  {
   "cell_type": "markdown",
   "id": "7fb382f0-e3b1-478c-8505-323d1ff32211",
   "metadata": {},
   "source": [
    "#### **Feature 1**: \n",
    "**average_days_between_purchases**: Average time between purchases by each product by each user. This gives insights into the typical frequency of repurcheses of a specific product"
   ]
  },
  {
   "cell_type": "code",
   "execution_count": null,
   "id": "14d9bf52-d589-4312-b9e8-3b906c626c82",
   "metadata": {},
   "outputs": [],
   "source": [
    "user_product_purchase_intervals = sampled_data.groupby(['user_id', 'product_id'])['days_since_prior_order'].mean().reset_index()\n",
    "user_product_purchase_intervals.rename(columns = {'days_since_prior_order': 'average_days_between_purchases'}, inplace = True)"
   ]
  },
  {
   "cell_type": "code",
   "execution_count": null,
   "id": "18f9744b-b964-4c2c-a0c1-0b41af4b52bc",
   "metadata": {},
   "outputs": [],
   "source": [
    "sampled_data = sampled_data.merge(user_product_purchase_intervals, on = ['user_id', 'product_id'], how = 'left')"
   ]
  },
  {
   "cell_type": "code",
   "execution_count": null,
   "id": "adcd91c2-cc0e-41d3-b2bd-fdc66d54ccb3",
   "metadata": {},
   "outputs": [],
   "source": [
    "sampled_data"
   ]
  },
  {
   "cell_type": "markdown",
   "id": "b28f5115-48ad-44a2-9993-679ced82f2b6",
   "metadata": {},
   "source": [
    "#### **Feature 2**\n",
    "**Product_purchase_frequency**: Count the total number of times each product has been purchased by a particular user."
   ]
  },
  {
   "cell_type": "code",
   "execution_count": null,
   "id": "a1a5b01b-ff84-4833-9484-e614f44c8588",
   "metadata": {},
   "outputs": [],
   "source": [
    "product_purchase_frequency = sampled_data.groupby(['user_id', 'product_id']).size().reset_index(name='product_purchase_frequency')"
   ]
  },
  {
   "cell_type": "code",
   "execution_count": null,
   "id": "5a598f57-2355-4268-b114-a3f117cc4538",
   "metadata": {},
   "outputs": [],
   "source": [
    "sampled_data = sampled_data.merge(product_purchase_frequency, on=['user_id', 'product_id'], how='left')"
   ]
  },
  {
   "cell_type": "code",
   "execution_count": null,
   "id": "e534f3f0-e50f-4c42-95c7-cf400c7e937b",
   "metadata": {},
   "outputs": [],
   "source": [
    "sampled_data"
   ]
  },
  {
   "cell_type": "markdown",
   "id": "ff22e6a7-ae59-46b4-a4f4-4c57417d8f6a",
   "metadata": {},
   "source": [
    "#### **Feature 3 & 4**\n",
    "\n",
    "- **total_purchases**:Count of purchases for each user-product pair\n",
    "-  **interval_std_dev**:Std deviation of intervals between purchases"
   ]
  },
  {
   "cell_type": "code",
   "execution_count": null,
   "id": "35d1d60e-4819-440d-ad65-71bd66eb8498",
   "metadata": {},
   "outputs": [],
   "source": [
    "purchase_stats = sampled_data.groupby(['user_id', 'product_id']).agg(total_purchases  = ('order_id', 'count'), \n",
    "                                                                       interval_std_dev = ('days_since_prior_order', 'std')\n",
    "                                                                      ).reset_index()\n",
    "\n",
    "sampled_data   = sampled_data.merge(purchase_stats, \n",
    "                                      on  = ['user_id', 'product_id'], \n",
    "                                      how = 'left')"
   ]
  },
  {
   "cell_type": "code",
   "execution_count": null,
   "id": "a6900fb6-35da-416e-be24-abf8cce7ab77",
   "metadata": {},
   "outputs": [],
   "source": [
    "sampled_data"
   ]
  },
  {
   "cell_type": "markdown",
   "id": "941bd9c2-bb63-41da-9b8b-c6b30519d622",
   "metadata": {},
   "source": [
    "#### **Feature 5**\n",
    "**Product_reorder_rate**: Reorder rate for each product by dividing the number of times a product has been reordered by the total number of orders of product"
   ]
  },
  {
   "cell_type": "code",
   "execution_count": null,
   "id": "90021a47-4c8a-4304-9b75-8ee52ce7a993",
   "metadata": {},
   "outputs": [],
   "source": [
    "product_reorders   = sampled_data.groupby('product_id').agg(\n",
    "    total_orders   = ('order_id', 'count'),\n",
    "    total_reorders = ('reordered', 'sum')\n",
    ").reset_index()\n",
    "product_reorders['product_reorder_rate'] = product_reorders['total_reorders'] / product_reorders['total_orders']"
   ]
  },
  {
   "cell_type": "code",
   "execution_count": null,
   "id": "563af935-01cf-469e-ad3d-424cffa88fb1",
   "metadata": {},
   "outputs": [],
   "source": [
    "sampled_data = sampled_data.merge(product_reorders[['product_id', 'product_reorder_rate']], on='product_id', how='left')"
   ]
  },
  {
   "cell_type": "code",
   "execution_count": null,
   "id": "473227dc-1626-4778-bc84-ca60ce143a35",
   "metadata": {},
   "outputs": [],
   "source": [
    "sampled_data"
   ]
  },
  {
   "cell_type": "markdown",
   "id": "78e002ab-a3d6-47c6-9b2e-64e720b29464",
   "metadata": {},
   "source": [
    "#### **Feature 6**\n",
    "**Users_general_reorder_rate**: The ratio of reordered items to total items of each user which captures the user general tendency to reorder products."
   ]
  },
  {
   "cell_type": "code",
   "execution_count": null,
   "id": "1cde93ef-08f3-49d1-ba8f-698f2ecc7f82",
   "metadata": {},
   "outputs": [],
   "source": [
    "user_reorders       = sampled_data.groupby('user_id').agg(\n",
    "    total_items     = ('order_id', 'count'),\n",
    "    reordered_items = ('reordered', 'sum')\n",
    ").reset_index()\n",
    "user_reorders['users_general_reorder_rate'] = user_reorders['reordered_items'] / user_reorders['total_items']"
   ]
  },
  {
   "cell_type": "code",
   "execution_count": null,
   "id": "08ccfa67-7724-4d25-ab48-80f9fd1effef",
   "metadata": {},
   "outputs": [],
   "source": [
    "sampled_data = sampled_data.merge(user_reorders[['user_id', 'users_general_reorder_rate']], on = 'user_id', how = 'left')"
   ]
  },
  {
   "cell_type": "code",
   "execution_count": null,
   "id": "c15906b0-f853-45bd-acd6-c9da7c3f584e",
   "metadata": {},
   "outputs": [],
   "source": [
    "sampled_data"
   ]
  },
  {
   "cell_type": "markdown",
   "id": "5824dc5d-bfa6-4522-a536-18efe0365d3b",
   "metadata": {},
   "source": [
    "#### **Feature 7**\n",
    "**Avg_add_to_cart_order**: Avg. posititon of each product in the cart when it is purchased."
   ]
  },
  {
   "cell_type": "code",
   "execution_count": null,
   "id": "67f95f69-760a-4daf-9485-0e0115394e84",
   "metadata": {},
   "outputs": [],
   "source": [
    "avg_cart_order = sampled_data.groupby('product_id')['add_to_cart_order'].mean().reset_index()\n",
    "avg_cart_order.rename(columns = {'add_to_cart_order': 'avg_add_to_cart_order'}, inplace = True)"
   ]
  },
  {
   "cell_type": "code",
   "execution_count": null,
   "id": "8347015e-f28c-4e5b-a69b-3828770761b1",
   "metadata": {},
   "outputs": [],
   "source": [
    "sampled_data = sampled_data.merge(avg_cart_order, on = 'product_id', how = 'left')"
   ]
  },
  {
   "cell_type": "code",
   "execution_count": null,
   "id": "4f64560e-4d16-4bac-983f-3d77dfcb38a2",
   "metadata": {},
   "outputs": [],
   "source": [
    "sampled_data"
   ]
  },
  {
   "cell_type": "code",
   "execution_count": null,
   "id": "2c2bfca6-7746-4600-8323-2cb5139236ab",
   "metadata": {},
   "outputs": [],
   "source": [
    "sampled_data.columns"
   ]
  },
  {
   "cell_type": "markdown",
   "id": "19b73c07-c919-45ac-941d-08dd962d9a4e",
   "metadata": {},
   "source": [
    "## **Dropping Unnecessary Columns**"
   ]
  },
  {
   "cell_type": "code",
   "execution_count": null,
   "id": "438593f0-5962-40f3-842f-652fad7582b7",
   "metadata": {},
   "outputs": [],
   "source": [
    "sampled_data.drop(columns=['add_to_cart_order','eval_set','days_since_prior_order', 'product_name', 'aisle', 'department', 'aisle_id', 'department_id', 'order_hour_of_day', 'order_dow'],inplace = True)"
   ]
  },
  {
   "cell_type": "code",
   "execution_count": null,
   "id": "c2e1dc8f-d0e0-492e-9bac-73323c168ad3",
   "metadata": {},
   "outputs": [],
   "source": [
    "sampled_data"
   ]
  },
  {
   "cell_type": "code",
   "execution_count": null,
   "id": "07c6ac7e-d180-46e4-ba5d-2602ef60748f",
   "metadata": {},
   "outputs": [],
   "source": [
    "sampled_data.info()"
   ]
  },
  {
   "cell_type": "code",
   "execution_count": null,
   "id": "a408089b-4f95-44cb-b1a6-5b1925cfd19d",
   "metadata": {},
   "outputs": [],
   "source": [
    "sampled_data.columns"
   ]
  },
  {
   "cell_type": "markdown",
   "id": "2dde1444-8c55-4857-9fa3-cdc97f88fbbb",
   "metadata": {},
   "source": [
    "## **Correlational Matrix - Heatmap**"
   ]
  },
  {
   "cell_type": "code",
   "execution_count": null,
   "id": "3888cc49-2bd1-4e5c-84ae-985ee8409a6e",
   "metadata": {},
   "outputs": [],
   "source": [
    "encoded_features = [\n",
    "    'aisle_target_enc', 'department_target_enc', 'product_name_target_enc',\n",
    "    'dow_0', 'dow_1', 'dow_2', 'dow_3', 'dow_4', 'dow_5', 'dow_6',\n",
    "    'order_hour_sin', 'order_hour_cos', 'add_to_cart_order_encoded'\n",
    "]\n",
    "new_features = [\n",
    "    'average_days_between_purchases', 'product_purchase_frequency',\n",
    "    'total_purchases', 'interval_std_dev', 'product_reorder_rate',\n",
    "    'users_general_reorder_rate', 'avg_add_to_cart_order'\n",
    "]\n",
    "\n",
    "features_to_include = encoded_features + new_features\n",
    "\n",
    "correlation_matrix  = sampled_data[features_to_include].corr()\n",
    "\n",
    "plt.figure(figsize = (12, 10))\n",
    "sns.heatmap(correlation_matrix, annot = True, fmt = '.2f', cmap = 'coolwarm', cbar = True)\n",
    "plt.title('Correlation Matrix for Encoded and New Features')\n",
    "plt.show()"
   ]
  },
  {
   "cell_type": "markdown",
   "id": "932e193b-66df-4225-b3fe-d4dd1ff9e991",
   "metadata": {},
   "source": [
    "## **Feature Importance**"
   ]
  },
  {
   "cell_type": "code",
   "execution_count": null,
   "id": "8f1a4bee-8ff1-4d0f-89ea-a331f410c5bd",
   "metadata": {},
   "outputs": [],
   "source": [
    "target = 'reordered'\n",
    "features = [\n",
    "    'aisle_target_enc', 'department_target_enc', 'product_name_target_enc',\n",
    "    'dow_0', 'dow_1', 'dow_2', 'dow_3', 'dow_4', 'dow_5', 'dow_6',\n",
    "    'order_hour_sin', 'order_hour_cos', 'add_to_cart_order_encoded',\n",
    "    'average_days_between_purchases', 'product_purchase_frequency',\n",
    "    'total_purchases', 'interval_std_dev', 'product_reorder_rate',\n",
    "    'users_general_reorder_rate', 'avg_add_to_cart_order'\n",
    "]\n",
    "\n",
    "# Preprocess data\n",
    "X = sampled_data[features]\n",
    "y = sampled_data[target]\n",
    "X_train, X_test, y_train, y_test = train_test_split(\n",
    "    X, y, test_size=0.2, random_state=42, stratify=y\n",
    ")\n",
    "scaler = StandardScaler()\n",
    "X_train = scaler.fit_transform(X_train)\n",
    "X_test = scaler.transform(X_test)\n",
    "\n",
    "# Train logistic regression model\n",
    "model = LogisticRegression(max_iter=1000, random_state=42)\n",
    "model.fit(X_train, y_train)\n",
    "\n",
    "# Plot feature importance\n",
    "feature_importance = np.abs(model.coef_[0])\n",
    "plt.figure(figsize=(10, 6))\n",
    "plt.barh(features, feature_importance, color='skyblue')\n",
    "plt.xlabel('Feature Importance')\n",
    "plt.ylabel('Features')\n",
    "plt.title('Feature Importance from Logistic Regression')\n",
    "plt.gca().invert_yaxis()\n",
    "plt.show()"
   ]
  },
  {
   "cell_type": "code",
   "execution_count": null,
   "id": "0b6d8e8d-149d-488b-977b-8f4252c5b11c",
   "metadata": {},
   "outputs": [],
   "source": []
  }
 ],
 "metadata": {
  "kernelspec": {
   "display_name": "Python 3 (ipykernel)",
   "language": "python",
   "name": "python3"
  },
  "language_info": {
   "codemirror_mode": {
    "name": "ipython",
    "version": 3
   },
   "file_extension": ".py",
   "mimetype": "text/x-python",
   "name": "python",
   "nbconvert_exporter": "python",
   "pygments_lexer": "ipython3",
   "version": "3.12.4"
  }
 },
 "nbformat": 4,
 "nbformat_minor": 5
}
