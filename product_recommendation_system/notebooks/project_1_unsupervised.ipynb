{
 "cells": [
  {
   "cell_type": "code",
   "execution_count": 1,
   "id": "3d71cff4-2529-4bd9-8072-80ba31bd8c50",
   "metadata": {},
   "outputs": [],
   "source": [
    "import pandas as pd\n",
    "import numpy as np\n",
    "import seaborn as sns\n",
    "from sklearn.preprocessing import StandardScaler\n",
    "from sklearn.cluster import KMeans, DBSCAN\n",
    "from sklearn.metrics import silhouette_score\n",
    "import matplotlib.pyplot as plt\n",
    "from sklearn.decomposition import PCA\n",
    "from sklearn.mixture import GaussianMixture\n",
    "from IPython.display import display\n",
    "from sklearn.mixture import GaussianMixture\n",
    "from sklearn.metrics import silhouette_score\n",
    "from matplotlib.patches import Ellipse\n",
    "import warnings\n",
    "warnings.filterwarnings('ignore')"
   ]
  },
  {
   "cell_type": "markdown",
   "id": "21cf52b9-7135-40ae-b244-52d9749d07c8",
   "metadata": {},
   "source": [
    "### Import datasets "
   ]
  },
  {
   "cell_type": "code",
   "execution_count": 2,
   "id": "6aaf3cba-5aef-41e6-b6f7-5accc0160b4a",
   "metadata": {},
   "outputs": [],
   "source": [
    "df_products = pd.read_csv('../../eda/datasets/project_1_dataset/products.csv')\n",
    "df_aisles = pd.read_csv('../../eda/datasets/project_1_dataset/aisles.csv')\n",
    "df_departments = pd.read_csv('../../eda/datasets/project_1_dataset/departments.csv')\n",
    "df_ordered_products = pd.read_csv('../../eda/datasets/project_1_dataset/order_products.csv')\n",
    "df_orders = pd.read_csv('../../eda/datasets/project_1_dataset/orders.csv')"
   ]
  },
  {
   "cell_type": "markdown",
   "id": "edf459d7-3412-4eba-939c-e6067689a9cb",
   "metadata": {},
   "source": [
    "### Merge required datasets"
   ]
  },
  {
   "cell_type": "code",
   "execution_count": 3,
   "id": "b865a897-49e8-4575-860f-8518078db5a4",
   "metadata": {},
   "outputs": [
    {
     "name": "stdout",
     "output_type": "stream",
     "text": [
      "done\n"
     ]
    }
   ],
   "source": [
    "df = pd.merge(df_orders, df_ordered_products, on='order_id', how='inner')\n",
    "df.drop(columns=['eval_set', 'order_number', 'add_to_cart_order','reordered'], inplace=True, axis=1)\n",
    "df = pd.merge(df, df_products, on='product_id', how='inner')\n",
    "print('done')"
   ]
  },
  {
   "cell_type": "code",
   "execution_count": 4,
   "id": "f3d0ad1b-b059-45ba-918d-d91fe4d1f606",
   "metadata": {},
   "outputs": [
    {
     "data": {
      "text/html": [
       "<div>\n",
       "<style scoped>\n",
       "    .dataframe tbody tr th:only-of-type {\n",
       "        vertical-align: middle;\n",
       "    }\n",
       "\n",
       "    .dataframe tbody tr th {\n",
       "        vertical-align: top;\n",
       "    }\n",
       "\n",
       "    .dataframe thead th {\n",
       "        text-align: right;\n",
       "    }\n",
       "</style>\n",
       "<table border=\"1\" class=\"dataframe\">\n",
       "  <thead>\n",
       "    <tr style=\"text-align: right;\">\n",
       "      <th></th>\n",
       "      <th>order_id</th>\n",
       "      <th>user_id</th>\n",
       "      <th>order_dow</th>\n",
       "      <th>order_hour_of_day</th>\n",
       "      <th>days_since_prior_order</th>\n",
       "      <th>product_id</th>\n",
       "      <th>product_name</th>\n",
       "      <th>aisle_id</th>\n",
       "      <th>department_id</th>\n",
       "    </tr>\n",
       "  </thead>\n",
       "  <tbody>\n",
       "    <tr>\n",
       "      <th>0</th>\n",
       "      <td>2539329</td>\n",
       "      <td>1</td>\n",
       "      <td>2</td>\n",
       "      <td>8</td>\n",
       "      <td>NaN</td>\n",
       "      <td>196</td>\n",
       "      <td>Soda</td>\n",
       "      <td>77</td>\n",
       "      <td>7</td>\n",
       "    </tr>\n",
       "    <tr>\n",
       "      <th>1</th>\n",
       "      <td>2539329</td>\n",
       "      <td>1</td>\n",
       "      <td>2</td>\n",
       "      <td>8</td>\n",
       "      <td>NaN</td>\n",
       "      <td>14084</td>\n",
       "      <td>Organic Unsweetened Vanilla Almond Milk</td>\n",
       "      <td>91</td>\n",
       "      <td>16</td>\n",
       "    </tr>\n",
       "    <tr>\n",
       "      <th>2</th>\n",
       "      <td>2539329</td>\n",
       "      <td>1</td>\n",
       "      <td>2</td>\n",
       "      <td>8</td>\n",
       "      <td>NaN</td>\n",
       "      <td>12427</td>\n",
       "      <td>Original Beef Jerky</td>\n",
       "      <td>23</td>\n",
       "      <td>19</td>\n",
       "    </tr>\n",
       "    <tr>\n",
       "      <th>3</th>\n",
       "      <td>2539329</td>\n",
       "      <td>1</td>\n",
       "      <td>2</td>\n",
       "      <td>8</td>\n",
       "      <td>NaN</td>\n",
       "      <td>26088</td>\n",
       "      <td>Aged White Cheddar Popcorn</td>\n",
       "      <td>23</td>\n",
       "      <td>19</td>\n",
       "    </tr>\n",
       "    <tr>\n",
       "      <th>4</th>\n",
       "      <td>2539329</td>\n",
       "      <td>1</td>\n",
       "      <td>2</td>\n",
       "      <td>8</td>\n",
       "      <td>NaN</td>\n",
       "      <td>26405</td>\n",
       "      <td>XL Pick-A-Size Paper Towel Rolls</td>\n",
       "      <td>54</td>\n",
       "      <td>17</td>\n",
       "    </tr>\n",
       "  </tbody>\n",
       "</table>\n",
       "</div>"
      ],
      "text/plain": [
       "   order_id  user_id  order_dow  order_hour_of_day  days_since_prior_order  \\\n",
       "0   2539329        1          2                  8                     NaN   \n",
       "1   2539329        1          2                  8                     NaN   \n",
       "2   2539329        1          2                  8                     NaN   \n",
       "3   2539329        1          2                  8                     NaN   \n",
       "4   2539329        1          2                  8                     NaN   \n",
       "\n",
       "   product_id                             product_name  aisle_id  \\\n",
       "0         196                                     Soda        77   \n",
       "1       14084  Organic Unsweetened Vanilla Almond Milk        91   \n",
       "2       12427                      Original Beef Jerky        23   \n",
       "3       26088               Aged White Cheddar Popcorn        23   \n",
       "4       26405         XL Pick-A-Size Paper Towel Rolls        54   \n",
       "\n",
       "   department_id  \n",
       "0              7  \n",
       "1             16  \n",
       "2             19  \n",
       "3             19  \n",
       "4             17  "
      ]
     },
     "execution_count": 4,
     "metadata": {},
     "output_type": "execute_result"
    }
   ],
   "source": [
    "df.head()"
   ]
  },
  {
   "cell_type": "markdown",
   "id": "7ca21194-6684-477a-ad2d-8778b46f3253",
   "metadata": {},
   "source": [
    "### NaN value handling"
   ]
  },
  {
   "cell_type": "code",
   "execution_count": 5,
   "id": "bfbfcab9-2dd7-4b96-a735-93edca06d7cf",
   "metadata": {},
   "outputs": [],
   "source": [
    "df.fillna(-1, inplace=True)\n",
    "df['days_since_prior_order'] = df['days_since_prior_order'] + 1"
   ]
  },
  {
   "cell_type": "code",
   "execution_count": 6,
   "id": "0c7212cf-4bbf-4366-9a60-6e61def2eab9",
   "metadata": {},
   "outputs": [
    {
     "data": {
      "text/html": [
       "<div>\n",
       "<style scoped>\n",
       "    .dataframe tbody tr th:only-of-type {\n",
       "        vertical-align: middle;\n",
       "    }\n",
       "\n",
       "    .dataframe tbody tr th {\n",
       "        vertical-align: top;\n",
       "    }\n",
       "\n",
       "    .dataframe thead th {\n",
       "        text-align: right;\n",
       "    }\n",
       "</style>\n",
       "<table border=\"1\" class=\"dataframe\">\n",
       "  <thead>\n",
       "    <tr style=\"text-align: right;\">\n",
       "      <th></th>\n",
       "      <th>order_id</th>\n",
       "      <th>user_id</th>\n",
       "      <th>order_dow</th>\n",
       "      <th>order_hour_of_day</th>\n",
       "      <th>days_since_prior_order</th>\n",
       "      <th>product_id</th>\n",
       "      <th>product_name</th>\n",
       "      <th>aisle_id</th>\n",
       "      <th>department_id</th>\n",
       "    </tr>\n",
       "  </thead>\n",
       "  <tbody>\n",
       "    <tr>\n",
       "      <th>0</th>\n",
       "      <td>2539329</td>\n",
       "      <td>1</td>\n",
       "      <td>2</td>\n",
       "      <td>8</td>\n",
       "      <td>0.0</td>\n",
       "      <td>196</td>\n",
       "      <td>Soda</td>\n",
       "      <td>77</td>\n",
       "      <td>7</td>\n",
       "    </tr>\n",
       "    <tr>\n",
       "      <th>1</th>\n",
       "      <td>2539329</td>\n",
       "      <td>1</td>\n",
       "      <td>2</td>\n",
       "      <td>8</td>\n",
       "      <td>0.0</td>\n",
       "      <td>14084</td>\n",
       "      <td>Organic Unsweetened Vanilla Almond Milk</td>\n",
       "      <td>91</td>\n",
       "      <td>16</td>\n",
       "    </tr>\n",
       "    <tr>\n",
       "      <th>2</th>\n",
       "      <td>2539329</td>\n",
       "      <td>1</td>\n",
       "      <td>2</td>\n",
       "      <td>8</td>\n",
       "      <td>0.0</td>\n",
       "      <td>12427</td>\n",
       "      <td>Original Beef Jerky</td>\n",
       "      <td>23</td>\n",
       "      <td>19</td>\n",
       "    </tr>\n",
       "    <tr>\n",
       "      <th>3</th>\n",
       "      <td>2539329</td>\n",
       "      <td>1</td>\n",
       "      <td>2</td>\n",
       "      <td>8</td>\n",
       "      <td>0.0</td>\n",
       "      <td>26088</td>\n",
       "      <td>Aged White Cheddar Popcorn</td>\n",
       "      <td>23</td>\n",
       "      <td>19</td>\n",
       "    </tr>\n",
       "    <tr>\n",
       "      <th>4</th>\n",
       "      <td>2539329</td>\n",
       "      <td>1</td>\n",
       "      <td>2</td>\n",
       "      <td>8</td>\n",
       "      <td>0.0</td>\n",
       "      <td>26405</td>\n",
       "      <td>XL Pick-A-Size Paper Towel Rolls</td>\n",
       "      <td>54</td>\n",
       "      <td>17</td>\n",
       "    </tr>\n",
       "  </tbody>\n",
       "</table>\n",
       "</div>"
      ],
      "text/plain": [
       "   order_id  user_id  order_dow  order_hour_of_day  days_since_prior_order  \\\n",
       "0   2539329        1          2                  8                     0.0   \n",
       "1   2539329        1          2                  8                     0.0   \n",
       "2   2539329        1          2                  8                     0.0   \n",
       "3   2539329        1          2                  8                     0.0   \n",
       "4   2539329        1          2                  8                     0.0   \n",
       "\n",
       "   product_id                             product_name  aisle_id  \\\n",
       "0         196                                     Soda        77   \n",
       "1       14084  Organic Unsweetened Vanilla Almond Milk        91   \n",
       "2       12427                      Original Beef Jerky        23   \n",
       "3       26088               Aged White Cheddar Popcorn        23   \n",
       "4       26405         XL Pick-A-Size Paper Towel Rolls        54   \n",
       "\n",
       "   department_id  \n",
       "0              7  \n",
       "1             16  \n",
       "2             19  \n",
       "3             19  \n",
       "4             17  "
      ]
     },
     "execution_count": 6,
     "metadata": {},
     "output_type": "execute_result"
    }
   ],
   "source": [
    "df.head()"
   ]
  },
  {
   "cell_type": "markdown",
   "id": "3ef1a6f9-116e-43a4-a8d2-bdb98dd54d14",
   "metadata": {},
   "source": [
    "### Stratify data"
   ]
  },
  {
   "cell_type": "code",
   "execution_count": 7,
   "id": "6b8225e7-076a-4f1e-8c8c-86c7437af8bd",
   "metadata": {},
   "outputs": [],
   "source": [
    "def stratified_sample(df, stratify_col, frac):\n",
    "    \n",
    "    stratified_df = df.groupby(stratify_col, group_keys=False).apply(lambda x: x.sample(frac=frac, random_state=42))\n",
    "\n",
    "    stratified_df = stratified_df.reset_index(drop=True)\n",
    "    \n",
    "    return stratified_df"
   ]
  },
  {
   "cell_type": "code",
   "execution_count": 8,
   "id": "e6abede9-1d5c-4e1a-836a-c6e89cb3d07a",
   "metadata": {},
   "outputs": [],
   "source": [
    "df = stratified_sample(df, 'user_id', frac=0.3)\n",
    "# df = pd.read_csv('filename.csv')"
   ]
  },
  {
   "cell_type": "code",
   "execution_count": 9,
   "id": "5f007382-1ccb-4461-8a4f-53ed1cf3dff3",
   "metadata": {},
   "outputs": [
    {
     "data": {
      "text/html": [
       "<div>\n",
       "<style scoped>\n",
       "    .dataframe tbody tr th:only-of-type {\n",
       "        vertical-align: middle;\n",
       "    }\n",
       "\n",
       "    .dataframe tbody tr th {\n",
       "        vertical-align: top;\n",
       "    }\n",
       "\n",
       "    .dataframe thead th {\n",
       "        text-align: right;\n",
       "    }\n",
       "</style>\n",
       "<table border=\"1\" class=\"dataframe\">\n",
       "  <thead>\n",
       "    <tr style=\"text-align: right;\">\n",
       "      <th></th>\n",
       "      <th>order_id</th>\n",
       "      <th>user_id</th>\n",
       "      <th>order_dow</th>\n",
       "      <th>order_hour_of_day</th>\n",
       "      <th>days_since_prior_order</th>\n",
       "      <th>product_id</th>\n",
       "      <th>product_name</th>\n",
       "      <th>aisle_id</th>\n",
       "      <th>department_id</th>\n",
       "    </tr>\n",
       "  </thead>\n",
       "  <tbody>\n",
       "    <tr>\n",
       "      <th>0</th>\n",
       "      <td>2539329</td>\n",
       "      <td>1</td>\n",
       "      <td>2</td>\n",
       "      <td>8</td>\n",
       "      <td>0.0</td>\n",
       "      <td>196</td>\n",
       "      <td>Soda</td>\n",
       "      <td>77</td>\n",
       "      <td>7</td>\n",
       "    </tr>\n",
       "    <tr>\n",
       "      <th>1</th>\n",
       "      <td>2398795</td>\n",
       "      <td>1</td>\n",
       "      <td>3</td>\n",
       "      <td>7</td>\n",
       "      <td>16.0</td>\n",
       "      <td>196</td>\n",
       "      <td>Soda</td>\n",
       "      <td>77</td>\n",
       "      <td>7</td>\n",
       "    </tr>\n",
       "    <tr>\n",
       "      <th>2</th>\n",
       "      <td>550135</td>\n",
       "      <td>1</td>\n",
       "      <td>1</td>\n",
       "      <td>9</td>\n",
       "      <td>21.0</td>\n",
       "      <td>10258</td>\n",
       "      <td>Pistachios</td>\n",
       "      <td>117</td>\n",
       "      <td>19</td>\n",
       "    </tr>\n",
       "    <tr>\n",
       "      <th>3</th>\n",
       "      <td>473747</td>\n",
       "      <td>1</td>\n",
       "      <td>3</td>\n",
       "      <td>12</td>\n",
       "      <td>22.0</td>\n",
       "      <td>10258</td>\n",
       "      <td>Pistachios</td>\n",
       "      <td>117</td>\n",
       "      <td>19</td>\n",
       "    </tr>\n",
       "    <tr>\n",
       "      <th>4</th>\n",
       "      <td>2295261</td>\n",
       "      <td>1</td>\n",
       "      <td>1</td>\n",
       "      <td>16</td>\n",
       "      <td>1.0</td>\n",
       "      <td>46149</td>\n",
       "      <td>Zero Calorie Cola</td>\n",
       "      <td>77</td>\n",
       "      <td>7</td>\n",
       "    </tr>\n",
       "  </tbody>\n",
       "</table>\n",
       "</div>"
      ],
      "text/plain": [
       "   order_id  user_id  order_dow  order_hour_of_day  days_since_prior_order  \\\n",
       "0   2539329        1          2                  8                     0.0   \n",
       "1   2398795        1          3                  7                    16.0   \n",
       "2    550135        1          1                  9                    21.0   \n",
       "3    473747        1          3                 12                    22.0   \n",
       "4   2295261        1          1                 16                     1.0   \n",
       "\n",
       "   product_id       product_name  aisle_id  department_id  \n",
       "0         196               Soda        77              7  \n",
       "1         196               Soda        77              7  \n",
       "2       10258         Pistachios       117             19  \n",
       "3       10258         Pistachios       117             19  \n",
       "4       46149  Zero Calorie Cola        77              7  "
      ]
     },
     "execution_count": 9,
     "metadata": {},
     "output_type": "execute_result"
    }
   ],
   "source": [
    "df.head()"
   ]
  },
  {
   "cell_type": "code",
   "execution_count": 10,
   "id": "3ca75f61-1ec1-4c9a-a430-5bb4e5df689a",
   "metadata": {},
   "outputs": [
    {
     "data": {
      "text/plain": [
       "(9730409, 9)"
      ]
     },
     "execution_count": 10,
     "metadata": {},
     "output_type": "execute_result"
    }
   ],
   "source": [
    "df.shape"
   ]
  },
  {
   "cell_type": "code",
   "execution_count": 11,
   "id": "b2f3d892-4cc2-4398-8c03-bf708fb36932",
   "metadata": {},
   "outputs": [],
   "source": [
    "# df.drop(columns=['user_order_count','total_items_ordered','product_popularity','avg_order_hour','order_frequency',\n",
    "#                  'department_affinity','preferred_order_dow','avg_reorder_rate','user_product_reorder_rate'],\n",
    "#        inplace=True)"
   ]
  },
  {
   "cell_type": "markdown",
   "id": "5e30d61e-1e9b-43c1-a889-8b1ef4baeab0",
   "metadata": {},
   "source": [
    "### Creating unique user profiles"
   ]
  },
  {
   "cell_type": "code",
   "execution_count": 12,
   "id": "811e4df3-29a8-4683-921e-ad106a33a45c",
   "metadata": {},
   "outputs": [],
   "source": [
    "def aggregate_user_data(df):\n",
    "    \"\"\"\n",
    "    Aggregates the data to create a single row per user with summarized features for clustering.\n",
    "\n",
    "    Parameters:\n",
    "    - df (pd.DataFrame): The input dataframe containing user purchase data.\n",
    "\n",
    "    Returns:\n",
    "    - pd.DataFrame: Aggregated user data with one row per user.\n",
    "    \"\"\"\n",
    "    \n",
    "    # 1. Total Orders per User (count of unique orders)\n",
    "    total_orders = df.groupby('user_id')['order_id'].nunique().reset_index()\n",
    "    total_orders.rename(columns={'order_id': 'total_orders'}, inplace=True)\n",
    "\n",
    "    # 2. Days Since Last Order (recency of last order)\n",
    "    days_since_last_order = df.groupby('user_id')['days_since_prior_order'].last().reset_index()\n",
    "    days_since_last_order.rename(columns={'days_since_prior_order': 'days_since_last_order'}, inplace=True)\n",
    "\n",
    "    # 3. Average Days Between Orders (order frequency)\n",
    "    avg_order_frequency = df.groupby('user_id')['days_since_prior_order'].mean().reset_index()\n",
    "    avg_order_frequency.rename(columns={'days_since_prior_order': 'avg_days_between_orders'}, inplace=True)\n",
    "\n",
    "    # 4. Unique Products Purchased (number of different products bought)\n",
    "    unique_products = df.groupby('user_id')['product_id'].nunique().reset_index()\n",
    "    unique_products.rename(columns={'product_id': 'unique_products'}, inplace=True)\n",
    "\n",
    "    # 5. Most Frequent Aisle (mode of aisle_id)\n",
    "    most_frequent_aisle = df.groupby('user_id')['aisle_id'].agg(lambda x: x.mode()[0]).reset_index()\n",
    "    most_frequent_aisle.rename(columns={'aisle_id': 'most_frequent_aisle'}, inplace=True)\n",
    "\n",
    "    # 6. Most Frequent Department (mode of department_id)\n",
    "    most_frequent_dept = df.groupby('user_id')['department_id'].agg(lambda x: x.mode()[0]).reset_index()\n",
    "    most_frequent_dept.rename(columns={'department_id': 'most_frequent_dept'}, inplace=True)\n",
    "\n",
    "    # 7. Basket Size (average number of items per order)\n",
    "    basket_size = df.groupby('user_id')['order_id'].count().reset_index()\n",
    "    basket_size.rename(columns={'order_id': 'basket_size'}, inplace=True)\n",
    "\n",
    "    # 8. Repeat Purchases (percentage of reordered items)\n",
    "    repeat_purchases = df.groupby('user_id')['product_id'].apply(lambda x: (x.duplicated().sum() / len(x)) * 100).reset_index()\n",
    "    repeat_purchases.rename(columns={'product_id': 'repeat_purchase_percentage'}, inplace=True)\n",
    "\n",
    "    # 9. Average Hour of Day for Purchases (when users tend to purchase)\n",
    "    avg_purchase_time = df.groupby('user_id')['order_hour_of_day'].mean().reset_index()\n",
    "    avg_purchase_time.rename(columns={'order_hour_of_day': 'avg_purchase_hour'}, inplace=True)\n",
    "\n",
    "    # 10. Weekend Shopper (percentage of purchases made on weekends)\n",
    "    df['is_weekend'] = df['order_dow'].apply(lambda x: 1 if x in [0, 6] else 0)\n",
    "    weekend_shopper = df.groupby('user_id')['is_weekend'].mean().reset_index()\n",
    "    weekend_shopper.rename(columns={'is_weekend': 'weekend_shopper_percentage'}, inplace=True)\n",
    "\n",
    "    # 11. Last Purchased Aisle and Department (based on last order)\n",
    "    last_purchased_aisle = df.groupby('user_id')['aisle_id'].last().reset_index()\n",
    "    last_purchased_aisle.rename(columns={'aisle_id': 'last_purchased_aisle'}, inplace=True)\n",
    "\n",
    "    last_purchased_dept = df.groupby('user_id')['department_id'].last().reset_index()\n",
    "    last_purchased_dept.rename(columns={'department_id': 'last_purchased_dept'}, inplace=True)\n",
    "\n",
    "    # Merging all features into a single dataframe (join on user_id)\n",
    "    df_aggregated = total_orders.merge(days_since_last_order, on='user_id', how='left')\n",
    "    df_aggregated = df_aggregated.merge(avg_order_frequency, on='user_id', how='left')\n",
    "    df_aggregated = df_aggregated.merge(unique_products, on='user_id', how='left')\n",
    "    df_aggregated = df_aggregated.merge(most_frequent_aisle, on='user_id', how='left')\n",
    "    df_aggregated = df_aggregated.merge(most_frequent_dept, on='user_id', how='left')\n",
    "    df_aggregated = df_aggregated.merge(basket_size, on='user_id', how='left')\n",
    "    df_aggregated = df_aggregated.merge(repeat_purchases, on='user_id', how='left')\n",
    "    df_aggregated = df_aggregated.merge(avg_purchase_time, on='user_id', how='left')\n",
    "    df_aggregated = df_aggregated.merge(weekend_shopper, on='user_id', how='left')\n",
    "    df_aggregated = df_aggregated.merge(last_purchased_aisle, on='user_id', how='left')\n",
    "    df_aggregated = df_aggregated.merge(last_purchased_dept, on='user_id', how='left')\n",
    "\n",
    "    return df_aggregated"
   ]
  },
  {
   "cell_type": "code",
   "execution_count": 13,
   "id": "bca8a7e7-7460-462f-a203-2c1bec1d77ec",
   "metadata": {},
   "outputs": [],
   "source": [
    "user_profiles = aggregate_user_data(df)"
   ]
  },
  {
   "cell_type": "code",
   "execution_count": 14,
   "id": "bac7dfdb-1ca0-40de-9cf6-bd0d8563a54e",
   "metadata": {},
   "outputs": [
    {
     "data": {
      "text/html": [
       "<div>\n",
       "<style scoped>\n",
       "    .dataframe tbody tr th:only-of-type {\n",
       "        vertical-align: middle;\n",
       "    }\n",
       "\n",
       "    .dataframe tbody tr th {\n",
       "        vertical-align: top;\n",
       "    }\n",
       "\n",
       "    .dataframe thead th {\n",
       "        text-align: right;\n",
       "    }\n",
       "</style>\n",
       "<table border=\"1\" class=\"dataframe\">\n",
       "  <thead>\n",
       "    <tr style=\"text-align: right;\">\n",
       "      <th></th>\n",
       "      <th>user_id</th>\n",
       "      <th>total_orders</th>\n",
       "      <th>days_since_last_order</th>\n",
       "      <th>avg_days_between_orders</th>\n",
       "      <th>unique_products</th>\n",
       "      <th>most_frequent_aisle</th>\n",
       "      <th>most_frequent_dept</th>\n",
       "      <th>basket_size</th>\n",
       "      <th>repeat_purchase_percentage</th>\n",
       "      <th>avg_purchase_hour</th>\n",
       "      <th>weekend_shopper_percentage</th>\n",
       "      <th>last_purchased_aisle</th>\n",
       "      <th>last_purchased_dept</th>\n",
       "    </tr>\n",
       "  </thead>\n",
       "  <tbody>\n",
       "    <tr>\n",
       "      <th>0</th>\n",
       "      <td>1</td>\n",
       "      <td>9</td>\n",
       "      <td>0.0</td>\n",
       "      <td>15.444444</td>\n",
       "      <td>11</td>\n",
       "      <td>23</td>\n",
       "      <td>19</td>\n",
       "      <td>18</td>\n",
       "      <td>38.888889</td>\n",
       "      <td>10.000000</td>\n",
       "      <td>0.000000</td>\n",
       "      <td>54</td>\n",
       "      <td>17</td>\n",
       "    </tr>\n",
       "    <tr>\n",
       "      <th>1</th>\n",
       "      <td>2</td>\n",
       "      <td>14</td>\n",
       "      <td>14.0</td>\n",
       "      <td>15.775862</td>\n",
       "      <td>45</td>\n",
       "      <td>24</td>\n",
       "      <td>19</td>\n",
       "      <td>58</td>\n",
       "      <td>22.413793</td>\n",
       "      <td>10.155172</td>\n",
       "      <td>0.000000</td>\n",
       "      <td>72</td>\n",
       "      <td>13</td>\n",
       "    </tr>\n",
       "    <tr>\n",
       "      <th>2</th>\n",
       "      <td>3</td>\n",
       "      <td>11</td>\n",
       "      <td>8.0</td>\n",
       "      <td>11.192308</td>\n",
       "      <td>17</td>\n",
       "      <td>24</td>\n",
       "      <td>4</td>\n",
       "      <td>26</td>\n",
       "      <td>34.615385</td>\n",
       "      <td>16.576923</td>\n",
       "      <td>0.461538</td>\n",
       "      <td>91</td>\n",
       "      <td>16</td>\n",
       "    </tr>\n",
       "    <tr>\n",
       "      <th>3</th>\n",
       "      <td>4</td>\n",
       "      <td>3</td>\n",
       "      <td>0.0</td>\n",
       "      <td>8.400000</td>\n",
       "      <td>5</td>\n",
       "      <td>74</td>\n",
       "      <td>3</td>\n",
       "      <td>5</td>\n",
       "      <td>0.000000</td>\n",
       "      <td>11.800000</td>\n",
       "      <td>0.600000</td>\n",
       "      <td>74</td>\n",
       "      <td>17</td>\n",
       "    </tr>\n",
       "    <tr>\n",
       "      <th>4</th>\n",
       "      <td>5</td>\n",
       "      <td>4</td>\n",
       "      <td>0.0</td>\n",
       "      <td>11.545455</td>\n",
       "      <td>10</td>\n",
       "      <td>120</td>\n",
       "      <td>4</td>\n",
       "      <td>11</td>\n",
       "      <td>9.090909</td>\n",
       "      <td>15.818182</td>\n",
       "      <td>0.272727</td>\n",
       "      <td>84</td>\n",
       "      <td>16</td>\n",
       "    </tr>\n",
       "  </tbody>\n",
       "</table>\n",
       "</div>"
      ],
      "text/plain": [
       "   user_id  total_orders  days_since_last_order  avg_days_between_orders  \\\n",
       "0        1             9                    0.0                15.444444   \n",
       "1        2            14                   14.0                15.775862   \n",
       "2        3            11                    8.0                11.192308   \n",
       "3        4             3                    0.0                 8.400000   \n",
       "4        5             4                    0.0                11.545455   \n",
       "\n",
       "   unique_products  most_frequent_aisle  most_frequent_dept  basket_size  \\\n",
       "0               11                   23                  19           18   \n",
       "1               45                   24                  19           58   \n",
       "2               17                   24                   4           26   \n",
       "3                5                   74                   3            5   \n",
       "4               10                  120                   4           11   \n",
       "\n",
       "   repeat_purchase_percentage  avg_purchase_hour  weekend_shopper_percentage  \\\n",
       "0                   38.888889          10.000000                    0.000000   \n",
       "1                   22.413793          10.155172                    0.000000   \n",
       "2                   34.615385          16.576923                    0.461538   \n",
       "3                    0.000000          11.800000                    0.600000   \n",
       "4                    9.090909          15.818182                    0.272727   \n",
       "\n",
       "   last_purchased_aisle  last_purchased_dept  \n",
       "0                    54                   17  \n",
       "1                    72                   13  \n",
       "2                    91                   16  \n",
       "3                    74                   17  \n",
       "4                    84                   16  "
      ]
     },
     "execution_count": 14,
     "metadata": {},
     "output_type": "execute_result"
    }
   ],
   "source": [
    "user_profiles.head()"
   ]
  },
  {
   "cell_type": "markdown",
   "id": "0ba0c9e7-c516-4ed9-ba11-15379366c17a",
   "metadata": {},
   "source": [
    "### Feature Scaling"
   ]
  },
  {
   "cell_type": "code",
   "execution_count": 15,
   "id": "6781ec9f-4e2b-4b10-9d61-4e46b584397b",
   "metadata": {},
   "outputs": [],
   "source": [
    "features = user_profiles.drop(columns=['user_id'], axis=1)\n",
    "features.dropna(inplace=True)\n",
    "scaler = StandardScaler()\n",
    "scaled_features = scaler.fit_transform(features)"
   ]
  },
  {
   "cell_type": "markdown",
   "id": "04266805-601a-471b-874d-82498da2e34a",
   "metadata": {},
   "source": [
    "### Clustering"
   ]
  },
  {
   "cell_type": "markdown",
   "id": "2d4a0715-915a-4f7a-a14c-8eb234df4116",
   "metadata": {},
   "source": [
    "#### KMeans"
   ]
  },
  {
   "cell_type": "code",
   "execution_count": 16,
   "id": "58dc7498-1748-4a7c-9b99-d07b971df3ba",
   "metadata": {},
   "outputs": [],
   "source": [
    "scores = []\n",
    "silhouette_scores = []\n",
    "n_components_range = range(2, 11)\n",
    "\n",
    "for n_components in n_components_range:\n",
    "    \n",
    "    kmeans = KMeans(n_clusters=n_components, random_state=42)\n",
    "    kmeans.fit(scaled_features)\n",
    "    \n",
    "    scores.append(kmeans.inertia_)\n",
    "    silhouette_scores.append(silhouette_score(scaled_features, kmeans.labels_))"
   ]
  },
  {
   "cell_type": "code",
   "execution_count": 17,
   "id": "aba7982c-bcfb-4428-9df3-429c9ff18d20",
   "metadata": {},
   "outputs": [
    {
     "data": {
      "image/png": "[encoded data removed]",
      "text/plain": [
       "<Figure size 800x600 with 1 Axes>"
      ]
     },
     "metadata": {},
     "output_type": "display_data"
    },
    {
     "data": {
      "image/png": "[encoded data removed]",
      "text/plain": [
       "<Figure size 640x480 with 1 Axes>"
      ]
     },
     "metadata": {},
     "output_type": "display_data"
    }
   ],
   "source": [
    "plt.figure(figsize=(8, 6))\n",
    "plt.plot(n_components_range, scores, marker='o', label=\"(Elbow Method\")\n",
    "plt.show()\n",
    "plt.plot(n_components_range, silhouette_scores, marker='o', color='r', label=\"Silhouette Score\")\n",
    "plt.xlabel(\"Number of Components\")\n",
    "plt.ylabel(\"Score\")\n",
    "plt.title(\"Elbow Method and Silhouette Scwore for Kmeans\")\n",
    "plt.show()"
   ]
  },
  {
   "cell_type": "markdown",
   "id": "665a5203-d7de-480b-9b71-f7524529e0ba",
   "metadata": {},
   "source": [
    "optimal clusters are 5"
   ]
  },
  {
   "cell_type": "code",
   "execution_count": 18,
   "id": "b0a5d855-80ea-48d1-8548-d1d8502a45f9",
   "metadata": {},
   "outputs": [],
   "source": [
    "kmeans = KMeans(n_clusters=4, random_state=42)\n",
    "kmeans.fit(scaled_features)\n",
    "\n",
    "features['cluster'] = kmeans.labels_"
   ]
  },
  {
   "cell_type": "code",
   "execution_count": 19,
   "id": "6b3c1ed4-4b1b-47c4-b4f1-d5c5bf34c916",
   "metadata": {},
   "outputs": [],
   "source": [
    "user_profiles['cluster']  = kmeans.labels_"
   ]
  },
  {
   "cell_type": "code",
   "execution_count": 20,
   "id": "79f5bbc7-5ec6-4471-bf28-c1b2ee57a5c0",
   "metadata": {},
   "outputs": [
    {
     "data": {
      "text/html": [
       "<div>\n",
       "<style scoped>\n",
       "    .dataframe tbody tr th:only-of-type {\n",
       "        vertical-align: middle;\n",
       "    }\n",
       "\n",
       "    .dataframe tbody tr th {\n",
       "        vertical-align: top;\n",
       "    }\n",
       "\n",
       "    .dataframe thead th {\n",
       "        text-align: right;\n",
       "    }\n",
       "</style>\n",
       "<table border=\"1\" class=\"dataframe\">\n",
       "  <thead>\n",
       "    <tr style=\"text-align: right;\">\n",
       "      <th></th>\n",
       "      <th>user_id</th>\n",
       "      <th>total_orders</th>\n",
       "      <th>days_since_last_order</th>\n",
       "      <th>avg_days_between_orders</th>\n",
       "      <th>unique_products</th>\n",
       "      <th>most_frequent_aisle</th>\n",
       "      <th>most_frequent_dept</th>\n",
       "      <th>basket_size</th>\n",
       "      <th>repeat_purchase_percentage</th>\n",
       "      <th>avg_purchase_hour</th>\n",
       "      <th>weekend_shopper_percentage</th>\n",
       "      <th>last_purchased_aisle</th>\n",
       "      <th>last_purchased_dept</th>\n",
       "      <th>cluster</th>\n",
       "    </tr>\n",
       "  </thead>\n",
       "  <tbody>\n",
       "    <tr>\n",
       "      <th>0</th>\n",
       "      <td>1</td>\n",
       "      <td>9</td>\n",
       "      <td>0.0</td>\n",
       "      <td>15.444444</td>\n",
       "      <td>11</td>\n",
       "      <td>23</td>\n",
       "      <td>19</td>\n",
       "      <td>18</td>\n",
       "      <td>38.888889</td>\n",
       "      <td>10.000000</td>\n",
       "      <td>0.000000</td>\n",
       "      <td>54</td>\n",
       "      <td>17</td>\n",
       "      <td>0</td>\n",
       "    </tr>\n",
       "    <tr>\n",
       "      <th>1</th>\n",
       "      <td>2</td>\n",
       "      <td>14</td>\n",
       "      <td>14.0</td>\n",
       "      <td>15.775862</td>\n",
       "      <td>45</td>\n",
       "      <td>24</td>\n",
       "      <td>19</td>\n",
       "      <td>58</td>\n",
       "      <td>22.413793</td>\n",
       "      <td>10.155172</td>\n",
       "      <td>0.000000</td>\n",
       "      <td>72</td>\n",
       "      <td>13</td>\n",
       "      <td>0</td>\n",
       "    </tr>\n",
       "    <tr>\n",
       "      <th>2</th>\n",
       "      <td>3</td>\n",
       "      <td>11</td>\n",
       "      <td>8.0</td>\n",
       "      <td>11.192308</td>\n",
       "      <td>17</td>\n",
       "      <td>24</td>\n",
       "      <td>4</td>\n",
       "      <td>26</td>\n",
       "      <td>34.615385</td>\n",
       "      <td>16.576923</td>\n",
       "      <td>0.461538</td>\n",
       "      <td>91</td>\n",
       "      <td>16</td>\n",
       "      <td>0</td>\n",
       "    </tr>\n",
       "    <tr>\n",
       "      <th>3</th>\n",
       "      <td>4</td>\n",
       "      <td>3</td>\n",
       "      <td>0.0</td>\n",
       "      <td>8.400000</td>\n",
       "      <td>5</td>\n",
       "      <td>74</td>\n",
       "      <td>3</td>\n",
       "      <td>5</td>\n",
       "      <td>0.000000</td>\n",
       "      <td>11.800000</td>\n",
       "      <td>0.600000</td>\n",
       "      <td>74</td>\n",
       "      <td>17</td>\n",
       "      <td>0</td>\n",
       "    </tr>\n",
       "    <tr>\n",
       "      <th>4</th>\n",
       "      <td>5</td>\n",
       "      <td>4</td>\n",
       "      <td>0.0</td>\n",
       "      <td>11.545455</td>\n",
       "      <td>10</td>\n",
       "      <td>120</td>\n",
       "      <td>4</td>\n",
       "      <td>11</td>\n",
       "      <td>9.090909</td>\n",
       "      <td>15.818182</td>\n",
       "      <td>0.272727</td>\n",
       "      <td>84</td>\n",
       "      <td>16</td>\n",
       "      <td>0</td>\n",
       "    </tr>\n",
       "    <tr>\n",
       "      <th>...</th>\n",
       "      <td>...</td>\n",
       "      <td>...</td>\n",
       "      <td>...</td>\n",
       "      <td>...</td>\n",
       "      <td>...</td>\n",
       "      <td>...</td>\n",
       "      <td>...</td>\n",
       "      <td>...</td>\n",
       "      <td>...</td>\n",
       "      <td>...</td>\n",
       "      <td>...</td>\n",
       "      <td>...</td>\n",
       "      <td>...</td>\n",
       "      <td>...</td>\n",
       "    </tr>\n",
       "    <tr>\n",
       "      <th>206204</th>\n",
       "      <td>206205</td>\n",
       "      <td>3</td>\n",
       "      <td>0.0</td>\n",
       "      <td>9.500000</td>\n",
       "      <td>8</td>\n",
       "      <td>21</td>\n",
       "      <td>16</td>\n",
       "      <td>10</td>\n",
       "      <td>20.000000</td>\n",
       "      <td>13.800000</td>\n",
       "      <td>0.000000</td>\n",
       "      <td>84</td>\n",
       "      <td>16</td>\n",
       "      <td>0</td>\n",
       "    </tr>\n",
       "    <tr>\n",
       "      <th>206205</th>\n",
       "      <td>206206</td>\n",
       "      <td>46</td>\n",
       "      <td>11.0</td>\n",
       "      <td>4.616279</td>\n",
       "      <td>51</td>\n",
       "      <td>37</td>\n",
       "      <td>1</td>\n",
       "      <td>86</td>\n",
       "      <td>40.697674</td>\n",
       "      <td>16.744186</td>\n",
       "      <td>0.313953</td>\n",
       "      <td>107</td>\n",
       "      <td>19</td>\n",
       "      <td>1</td>\n",
       "    </tr>\n",
       "    <tr>\n",
       "      <th>206206</th>\n",
       "      <td>206207</td>\n",
       "      <td>16</td>\n",
       "      <td>0.0</td>\n",
       "      <td>14.238806</td>\n",
       "      <td>50</td>\n",
       "      <td>84</td>\n",
       "      <td>16</td>\n",
       "      <td>67</td>\n",
       "      <td>25.373134</td>\n",
       "      <td>13.477612</td>\n",
       "      <td>0.313433</td>\n",
       "      <td>112</td>\n",
       "      <td>3</td>\n",
       "      <td>0</td>\n",
       "    </tr>\n",
       "    <tr>\n",
       "      <th>206207</th>\n",
       "      <td>206208</td>\n",
       "      <td>46</td>\n",
       "      <td>8.0</td>\n",
       "      <td>8.290640</td>\n",
       "      <td>108</td>\n",
       "      <td>123</td>\n",
       "      <td>4</td>\n",
       "      <td>203</td>\n",
       "      <td>46.798030</td>\n",
       "      <td>13.798030</td>\n",
       "      <td>0.177340</td>\n",
       "      <td>83</td>\n",
       "      <td>4</td>\n",
       "      <td>1</td>\n",
       "    </tr>\n",
       "    <tr>\n",
       "      <th>206208</th>\n",
       "      <td>206209</td>\n",
       "      <td>13</td>\n",
       "      <td>23.0</td>\n",
       "      <td>18.794872</td>\n",
       "      <td>30</td>\n",
       "      <td>24</td>\n",
       "      <td>4</td>\n",
       "      <td>39</td>\n",
       "      <td>23.076923</td>\n",
       "      <td>12.974359</td>\n",
       "      <td>0.025641</td>\n",
       "      <td>67</td>\n",
       "      <td>20</td>\n",
       "      <td>2</td>\n",
       "    </tr>\n",
       "  </tbody>\n",
       "</table>\n",
       "<p>206209 rows × 14 columns</p>\n",
       "</div>"
      ],
      "text/plain": [
       "        user_id  total_orders  days_since_last_order  avg_days_between_orders  \\\n",
       "0             1             9                    0.0                15.444444   \n",
       "1             2            14                   14.0                15.775862   \n",
       "2             3            11                    8.0                11.192308   \n",
       "3             4             3                    0.0                 8.400000   \n",
       "4             5             4                    0.0                11.545455   \n",
       "...         ...           ...                    ...                      ...   \n",
       "206204   206205             3                    0.0                 9.500000   \n",
       "206205   206206            46                   11.0                 4.616279   \n",
       "206206   206207            16                    0.0                14.238806   \n",
       "206207   206208            46                    8.0                 8.290640   \n",
       "206208   206209            13                   23.0                18.794872   \n",
       "\n",
       "        unique_products  most_frequent_aisle  most_frequent_dept  basket_size  \\\n",
       "0                    11                   23                  19           18   \n",
       "1                    45                   24                  19           58   \n",
       "2                    17                   24                   4           26   \n",
       "3                     5                   74                   3            5   \n",
       "4                    10                  120                   4           11   \n",
       "...                 ...                  ...                 ...          ...   \n",
       "206204                8                   21                  16           10   \n",
       "206205               51                   37                   1           86   \n",
       "206206               50                   84                  16           67   \n",
       "206207              108                  123                   4          203   \n",
       "206208               30                   24                   4           39   \n",
       "\n",
       "        repeat_purchase_percentage  avg_purchase_hour  \\\n",
       "0                        38.888889          10.000000   \n",
       "1                        22.413793          10.155172   \n",
       "2                        34.615385          16.576923   \n",
       "3                         0.000000          11.800000   \n",
       "4                         9.090909          15.818182   \n",
       "...                            ...                ...   \n",
       "206204                   20.000000          13.800000   \n",
       "206205                   40.697674          16.744186   \n",
       "206206                   25.373134          13.477612   \n",
       "206207                   46.798030          13.798030   \n",
       "206208                   23.076923          12.974359   \n",
       "\n",
       "        weekend_shopper_percentage  last_purchased_aisle  last_purchased_dept  \\\n",
       "0                         0.000000                    54                   17   \n",
       "1                         0.000000                    72                   13   \n",
       "2                         0.461538                    91                   16   \n",
       "3                         0.600000                    74                   17   \n",
       "4                         0.272727                    84                   16   \n",
       "...                            ...                   ...                  ...   \n",
       "206204                    0.000000                    84                   16   \n",
       "206205                    0.313953                   107                   19   \n",
       "206206                    0.313433                   112                    3   \n",
       "206207                    0.177340                    83                    4   \n",
       "206208                    0.025641                    67                   20   \n",
       "\n",
       "        cluster  \n",
       "0             0  \n",
       "1             0  \n",
       "2             0  \n",
       "3             0  \n",
       "4             0  \n",
       "...         ...  \n",
       "206204        0  \n",
       "206205        1  \n",
       "206206        0  \n",
       "206207        1  \n",
       "206208        2  \n",
       "\n",
       "[206209 rows x 14 columns]"
      ]
     },
     "execution_count": 20,
     "metadata": {},
     "output_type": "execute_result"
    }
   ],
   "source": [
    "user_profiles"
   ]
  },
  {
   "cell_type": "code",
   "execution_count": 21,
   "id": "0fdfd978-821e-44d1-95fd-5ef7361bcdb9",
   "metadata": {},
   "outputs": [
    {
     "data": {
      "text/plain": [
       "['user_id',\n",
       " 'total_orders',\n",
       " 'days_since_last_order',\n",
       " 'avg_days_between_orders',\n",
       " 'unique_products',\n",
       " 'most_frequent_aisle',\n",
       " 'most_frequent_dept',\n",
       " 'basket_size',\n",
       " 'repeat_purchase_percentage',\n",
       " 'avg_purchase_hour',\n",
       " 'weekend_shopper_percentage',\n",
       " 'last_purchased_aisle',\n",
       " 'last_purchased_dept',\n",
       " 'cluster']"
      ]
     },
     "execution_count": 21,
     "metadata": {},
     "output_type": "execute_result"
    }
   ],
   "source": [
    "list(user_profiles.columns)"
   ]
  },
  {
   "cell_type": "code",
   "execution_count": 25,
   "id": "aa0290ff-4da2-4b1e-abfe-c10e040d779f",
   "metadata": {},
   "outputs": [],
   "source": [
    "user_profiles['is_weekend'] = np.where(user_profiles['weekend_shopper_percentage'] > 0.5, 1, 0)"
   ]
  },
  {
   "cell_type": "code",
   "execution_count": 26,
   "id": "8e902ae2-2235-4b4f-9bc5-35c096cb652f",
   "metadata": {},
   "outputs": [
    {
     "data": {
      "text/html": [
       "<div>\n",
       "<style scoped>\n",
       "    .dataframe tbody tr th:only-of-type {\n",
       "        vertical-align: middle;\n",
       "    }\n",
       "\n",
       "    .dataframe tbody tr th {\n",
       "        vertical-align: top;\n",
       "    }\n",
       "\n",
       "    .dataframe thead th {\n",
       "        text-align: right;\n",
       "    }\n",
       "</style>\n",
       "<table border=\"1\" class=\"dataframe\">\n",
       "  <thead>\n",
       "    <tr style=\"text-align: right;\">\n",
       "      <th></th>\n",
       "      <th>user_id</th>\n",
       "      <th>total_orders</th>\n",
       "      <th>days_since_last_order</th>\n",
       "      <th>avg_days_between_orders</th>\n",
       "      <th>unique_products</th>\n",
       "      <th>most_frequent_aisle</th>\n",
       "      <th>most_frequent_dept</th>\n",
       "      <th>basket_size</th>\n",
       "      <th>repeat_purchase_percentage</th>\n",
       "      <th>avg_purchase_hour</th>\n",
       "      <th>weekend_shopper_percentage</th>\n",
       "      <th>last_purchased_aisle</th>\n",
       "      <th>last_purchased_dept</th>\n",
       "      <th>cluster</th>\n",
       "      <th>is_weekend</th>\n",
       "    </tr>\n",
       "  </thead>\n",
       "  <tbody>\n",
       "    <tr>\n",
       "      <th>0</th>\n",
       "      <td>1</td>\n",
       "      <td>9</td>\n",
       "      <td>0.0</td>\n",
       "      <td>15.444444</td>\n",
       "      <td>11</td>\n",
       "      <td>23</td>\n",
       "      <td>19</td>\n",
       "      <td>18</td>\n",
       "      <td>38.888889</td>\n",
       "      <td>10.000000</td>\n",
       "      <td>0.000000</td>\n",
       "      <td>54</td>\n",
       "      <td>17</td>\n",
       "      <td>0</td>\n",
       "      <td>0</td>\n",
       "    </tr>\n",
       "    <tr>\n",
       "      <th>1</th>\n",
       "      <td>2</td>\n",
       "      <td>14</td>\n",
       "      <td>14.0</td>\n",
       "      <td>15.775862</td>\n",
       "      <td>45</td>\n",
       "      <td>24</td>\n",
       "      <td>19</td>\n",
       "      <td>58</td>\n",
       "      <td>22.413793</td>\n",
       "      <td>10.155172</td>\n",
       "      <td>0.000000</td>\n",
       "      <td>72</td>\n",
       "      <td>13</td>\n",
       "      <td>0</td>\n",
       "      <td>0</td>\n",
       "    </tr>\n",
       "    <tr>\n",
       "      <th>2</th>\n",
       "      <td>3</td>\n",
       "      <td>11</td>\n",
       "      <td>8.0</td>\n",
       "      <td>11.192308</td>\n",
       "      <td>17</td>\n",
       "      <td>24</td>\n",
       "      <td>4</td>\n",
       "      <td>26</td>\n",
       "      <td>34.615385</td>\n",
       "      <td>16.576923</td>\n",
       "      <td>0.461538</td>\n",
       "      <td>91</td>\n",
       "      <td>16</td>\n",
       "      <td>0</td>\n",
       "      <td>0</td>\n",
       "    </tr>\n",
       "    <tr>\n",
       "      <th>3</th>\n",
       "      <td>4</td>\n",
       "      <td>3</td>\n",
       "      <td>0.0</td>\n",
       "      <td>8.400000</td>\n",
       "      <td>5</td>\n",
       "      <td>74</td>\n",
       "      <td>3</td>\n",
       "      <td>5</td>\n",
       "      <td>0.000000</td>\n",
       "      <td>11.800000</td>\n",
       "      <td>0.600000</td>\n",
       "      <td>74</td>\n",
       "      <td>17</td>\n",
       "      <td>0</td>\n",
       "      <td>1</td>\n",
       "    </tr>\n",
       "    <tr>\n",
       "      <th>4</th>\n",
       "      <td>5</td>\n",
       "      <td>4</td>\n",
       "      <td>0.0</td>\n",
       "      <td>11.545455</td>\n",
       "      <td>10</td>\n",
       "      <td>120</td>\n",
       "      <td>4</td>\n",
       "      <td>11</td>\n",
       "      <td>9.090909</td>\n",
       "      <td>15.818182</td>\n",
       "      <td>0.272727</td>\n",
       "      <td>84</td>\n",
       "      <td>16</td>\n",
       "      <td>0</td>\n",
       "      <td>0</td>\n",
       "    </tr>\n",
       "  </tbody>\n",
       "</table>\n",
       "</div>"
      ],
      "text/plain": [
       "   user_id  total_orders  days_since_last_order  avg_days_between_orders  \\\n",
       "0        1             9                    0.0                15.444444   \n",
       "1        2            14                   14.0                15.775862   \n",
       "2        3            11                    8.0                11.192308   \n",
       "3        4             3                    0.0                 8.400000   \n",
       "4        5             4                    0.0                11.545455   \n",
       "\n",
       "   unique_products  most_frequent_aisle  most_frequent_dept  basket_size  \\\n",
       "0               11                   23                  19           18   \n",
       "1               45                   24                  19           58   \n",
       "2               17                   24                   4           26   \n",
       "3                5                   74                   3            5   \n",
       "4               10                  120                   4           11   \n",
       "\n",
       "   repeat_purchase_percentage  avg_purchase_hour  weekend_shopper_percentage  \\\n",
       "0                   38.888889          10.000000                    0.000000   \n",
       "1                   22.413793          10.155172                    0.000000   \n",
       "2                   34.615385          16.576923                    0.461538   \n",
       "3                    0.000000          11.800000                    0.600000   \n",
       "4                    9.090909          15.818182                    0.272727   \n",
       "\n",
       "   last_purchased_aisle  last_purchased_dept  cluster  is_weekend  \n",
       "0                    54                   17        0           0  \n",
       "1                    72                   13        0           0  \n",
       "2                    91                   16        0           0  \n",
       "3                    74                   17        0           1  \n",
       "4                    84                   16        0           0  "
      ]
     },
     "execution_count": 26,
     "metadata": {},
     "output_type": "execute_result"
    }
   ],
   "source": [
    "user_profiles.head()"
   ]
  },
  {
   "cell_type": "code",
   "execution_count": 27,
   "id": "76b78ce7-d39d-4d1b-bbd7-cca05ab6211f",
   "metadata": {},
   "outputs": [
    {
     "data": {
      "image/png": "[encoded data removed]",
      "text/plain": [
       "<Figure size 600x600 with 1 Axes>"
      ]
     },
     "metadata": {},
     "output_type": "display_data"
    }
   ],
   "source": [
    "feature_set = [\n",
    " 'total_orders',\n",
    " 'avg_days_between_orders',\n",
    " 'unique_products',\n",
    " 'basket_size',\n",
    " 'repeat_purchase_percentage',\n",
    " 'avg_purchase_hour',\n",
    " 'weekend_shopper_percentage',\n",
    " 'is_weekend']\n",
    "\n",
    "cluster_means = user_profiles.groupby('cluster')[feature_set].mean()\n",
    "\n",
    "normalized_means = (cluster_means - cluster_means.min()) / (cluster_means.max() - cluster_means.min())\n",
    "\n",
    "labels = feature_set\n",
    "num_vars = len(labels)\n",
    "angles = np.linspace(0, 2 * np.pi, num_vars, endpoint=False).tolist()\n",
    "angles += angles[:1] \n",
    "\n",
    "\n",
    "fig, ax = plt.subplots(figsize=(6, 6), subplot_kw=dict(polar=True))\n",
    "for cluster in normalized_means.index:\n",
    "    values = normalized_means.loc[cluster].tolist()\n",
    "    values += values[:1] \n",
    "    ax.plot(angles, values, label=f'Cluster {cluster}')\n",
    "    ax.fill(angles, values, alpha=0.25)\n",
    "\n",
    "ax.set_theta_offset(np.pi / 2)\n",
    "ax.set_theta_direction(-1)\n",
    "ax.set_xticks(angles[:-1])\n",
    "ax.set_xticklabels(labels)\n",
    "ax.set_yticks([0.2, 0.5, 0.8])\n",
    "ax.set_yticklabels(['0.2', '0.5', '0.8'], color=\"grey\", size=8)\n",
    "ax.set_ylim(0, 1)\n",
    "\n",
    "\n",
    "ax.legend(loc='upper right', bbox_to_anchor=(1.3, 1.1))\n",
    "plt.title('Radar Plot of Cluster Means', size=14, y=1.1)\n",
    "plt.show()"
   ]
  },
  {
   "cell_type": "code",
   "execution_count": null,
   "id": "4d1483f9-1db0-4d3a-9cb3-678ae0adae94",
   "metadata": {},
   "outputs": [],
   "source": [
    "user_profiles.groupby('cluster')['is_weekend'].mean()"
   ]
  },
  {
   "cell_type": "code",
   "execution_count": 29,
   "id": "2e6327b9-8719-4e63-b6ba-08e299710eac",
   "metadata": {},
   "outputs": [
    {
     "data": {
      "text/plain": [
       "cluster\n",
       "0    11.994250\n",
       "1     8.786168\n",
       "2    19.365223\n",
       "3    11.807932\n",
       "Name: avg_days_between_orders, dtype: float64"
      ]
     },
     "execution_count": 29,
     "metadata": {},
     "output_type": "execute_result"
    }
   ],
   "source": [
    "# avg_days_between_orders\n",
    "user_profiles.groupby('cluster')['avg_days_between_orders'].mean()"
   ]
  },
  {
   "cell_type": "code",
   "execution_count": 30,
   "id": "ecd05d31-f376-47b3-9e46-81312e6ef010",
   "metadata": {},
   "outputs": [],
   "source": [
    "import dataframe_image as dfi"
   ]
  },
  {
   "cell_type": "markdown",
   "id": "69580dad-d0f8-47b3-bbb2-2df43769c9c5",
   "metadata": {},
   "source": [
    "#### EDA on Clusters"
   ]
  },
  {
   "cell_type": "code",
   "execution_count": 31,
   "id": "d6005747-9411-4949-93ff-27222bd338e7",
   "metadata": {},
   "outputs": [],
   "source": [
    "user_profiles['is_weekend'] = np.where(user_profiles['weekend_shopper_percentage'] > 0.5, 1, 0)"
   ]
  },
  {
   "cell_type": "code",
   "execution_count": 32,
   "id": "bbbfac76-783c-44f8-89fd-182d3fcffc25",
   "metadata": {},
   "outputs": [
    {
     "data": {
      "text/plain": [
       "cluster\n",
       "0    22.214292\n",
       "1    82.918410\n",
       "2    18.378393\n",
       "3    21.463918\n",
       "Name: unique_products, dtype: float64"
      ]
     },
     "execution_count": 32,
     "metadata": {},
     "output_type": "execute_result"
    }
   ],
   "source": [
    "user_profiles.groupby('cluster')['unique_products'].mean()"
   ]
  },
  {
   "cell_type": "code",
   "execution_count": 33,
   "id": "e096aa16-23e4-4463-93fd-d03438e09fea",
   "metadata": {},
   "outputs": [
    {
     "data": {
      "text/plain": [
       "cluster\n",
       "0     30.529141\n",
       "1    168.510071\n",
       "2     23.248521\n",
       "3     29.216476\n",
       "Name: basket_size, dtype: float64"
      ]
     },
     "execution_count": 33,
     "metadata": {},
     "output_type": "execute_result"
    }
   ],
   "source": [
    "user_profiles.groupby('cluster')['basket_size'].agg('mean')"
   ]
  },
  {
   "cell_type": "markdown",
   "id": "42cafea8-0e0a-4ded-8e37-63f428383e6b",
   "metadata": {},
   "source": [
    "- users of cluster 1 are mostly bulk buyers and usually buy varity of items.\n",
    "- buyers of cluster 0 are medium buyers they usually have moderate basket size per order and they also like to explore some varity or products.\n",
    "- other clusters have buyers who like to buy less items togather and mostly they order and reorder specific items."
   ]
  },
  {
   "cell_type": "code",
   "execution_count": 34,
   "id": "1037db8a-8922-40f4-8482-412ba05c2d4e",
   "metadata": {},
   "outputs": [
    {
     "data": {
      "text/html": [
       "<div>\n",
       "<style scoped>\n",
       "    .dataframe tbody tr th:only-of-type {\n",
       "        vertical-align: middle;\n",
       "    }\n",
       "\n",
       "    .dataframe tbody tr th {\n",
       "        vertical-align: top;\n",
       "    }\n",
       "\n",
       "    .dataframe thead th {\n",
       "        text-align: right;\n",
       "    }\n",
       "</style>\n",
       "<table border=\"1\" class=\"dataframe\">\n",
       "  <thead>\n",
       "    <tr style=\"text-align: right;\">\n",
       "      <th></th>\n",
       "      <th>most_frequent_dept</th>\n",
       "      <th>department</th>\n",
       "    </tr>\n",
       "  </thead>\n",
       "  <tbody>\n",
       "    <tr>\n",
       "      <th>0</th>\n",
       "      <td>4</td>\n",
       "      <td>produce</td>\n",
       "    </tr>\n",
       "    <tr>\n",
       "      <th>1</th>\n",
       "      <td>4</td>\n",
       "      <td>produce</td>\n",
       "    </tr>\n",
       "    <tr>\n",
       "      <th>2</th>\n",
       "      <td>4</td>\n",
       "      <td>produce</td>\n",
       "    </tr>\n",
       "    <tr>\n",
       "      <th>3</th>\n",
       "      <td>4</td>\n",
       "      <td>produce</td>\n",
       "    </tr>\n",
       "  </tbody>\n",
       "</table>\n",
       "</div>"
      ],
      "text/plain": [
       "   most_frequent_dept department\n",
       "0                   4    produce\n",
       "1                   4    produce\n",
       "2                   4    produce\n",
       "3                   4    produce"
      ]
     },
     "metadata": {},
     "output_type": "display_data"
    },
    {
     "data": {
      "text/html": [
       "<div>\n",
       "<style scoped>\n",
       "    .dataframe tbody tr th:only-of-type {\n",
       "        vertical-align: middle;\n",
       "    }\n",
       "\n",
       "    .dataframe tbody tr th {\n",
       "        vertical-align: top;\n",
       "    }\n",
       "\n",
       "    .dataframe thead th {\n",
       "        text-align: right;\n",
       "    }\n",
       "</style>\n",
       "<table border=\"1\" class=\"dataframe\">\n",
       "  <thead>\n",
       "    <tr style=\"text-align: right;\">\n",
       "      <th></th>\n",
       "      <th>most bought aisle</th>\n",
       "      <th>second most bought aisle</th>\n",
       "      <th>third most bought aisle</th>\n",
       "      <th>fourth most bought aisle</th>\n",
       "    </tr>\n",
       "  </thead>\n",
       "  <tbody>\n",
       "    <tr>\n",
       "      <th>0</th>\n",
       "      <td>fresh fruits</td>\n",
       "      <td>fresh vegetables</td>\n",
       "      <td>yogurt</td>\n",
       "      <td>packaged cheese</td>\n",
       "    </tr>\n",
       "    <tr>\n",
       "      <th>1</th>\n",
       "      <td>fresh fruits</td>\n",
       "      <td>fresh vegetables</td>\n",
       "      <td>yogurt</td>\n",
       "      <td>packaged vegetables fruits</td>\n",
       "    </tr>\n",
       "    <tr>\n",
       "      <th>2</th>\n",
       "      <td>fresh fruits</td>\n",
       "      <td>fresh vegetables</td>\n",
       "      <td>packaged cheese</td>\n",
       "      <td>water seltzer sparkling water</td>\n",
       "    </tr>\n",
       "    <tr>\n",
       "      <th>3</th>\n",
       "      <td>fresh fruits</td>\n",
       "      <td>fresh vegetables</td>\n",
       "      <td>packaged vegetables fruits</td>\n",
       "      <td>packaged produce</td>\n",
       "    </tr>\n",
       "  </tbody>\n",
       "</table>\n",
       "</div>"
      ],
      "text/plain": [
       "  most bought aisle second most bought aisle     third most bought aisle  \\\n",
       "0      fresh fruits         fresh vegetables                      yogurt   \n",
       "1      fresh fruits         fresh vegetables                      yogurt   \n",
       "2      fresh fruits         fresh vegetables             packaged cheese   \n",
       "3      fresh fruits         fresh vegetables  packaged vegetables fruits   \n",
       "\n",
       "        fourth most bought aisle  \n",
       "0                packaged cheese  \n",
       "1     packaged vegetables fruits  \n",
       "2  water seltzer sparkling water  \n",
       "3               packaged produce  "
      ]
     },
     "execution_count": 34,
     "metadata": {},
     "output_type": "execute_result"
    }
   ],
   "source": [
    "most_bought_by_cluster = user_profiles.groupby('cluster')['most_frequent_dept'].agg(lambda x: x.value_counts().idxmax())\n",
    "display(pd.DataFrame(most_bought_by_cluster).merge(\n",
    "    df_departments,left_on='most_frequent_dept', right_on='department_id', how='left'\n",
    ").drop(columns=['department_id']))\n",
    "\n",
    "\n",
    "data = []\n",
    "\n",
    "def fn(x):\n",
    "    data.append({\n",
    "        \"most bought aisle\" : df_aisles[df_aisles.aisle_id == x.value_counts().index[0]]['aisle'].values[0] if len(x.value_counts()) > 1 else None,\n",
    "        \"second most bought aisle\" : df_aisles[df_aisles.aisle_id == x.value_counts().index[1]]['aisle'].values[0] if len(x.value_counts()) > 1 else None, \n",
    "        \"third most bought aisle\" : df_aisles[df_aisles.aisle_id == x.value_counts().index[2]]['aisle'].values[0] if len(x.value_counts()) > 2 else None,\n",
    "        \"fourth most bought aisle\" : df_aisles[df_aisles.aisle_id == x.value_counts().index[3]]['aisle'].values[0] if len(x.value_counts()) > 3 else None\n",
    "    })\n",
    "\n",
    "user_profiles.groupby('cluster')['most_frequent_aisle'].agg(fn)\n",
    "pd.DataFrame(data)"
   ]
  },
  {
   "cell_type": "markdown",
   "id": "fa0ed944-ee65-495f-b43b-e21ee2c1d314",
   "metadata": {},
   "source": [
    "Buyers of cluster 2 are more likely to buy from dairy eggs department. Other clusters have highest sells from produce department.<br/>\n",
    "- Buyers from cluster 2 prefer dairy items like yougurt, packaged cheese, milk etc.\n",
    "- Buyers from other clusters usually buy fresh fruits and vegetables. They are likely to be more health concious. "
   ]
  },
  {
   "cell_type": "code",
   "execution_count": 35,
   "id": "0126b8ca-724c-4476-8036-44a7dda39770",
   "metadata": {},
   "outputs": [
    {
     "data": {
      "text/plain": [
       "cluster\n",
       "0    11.994250\n",
       "1     8.786168\n",
       "2    19.365223\n",
       "3    11.807932\n",
       "Name: avg_days_between_orders, dtype: float64"
      ]
     },
     "execution_count": 35,
     "metadata": {},
     "output_type": "execute_result"
    }
   ],
   "source": [
    "# avg_purchase_hour\n",
    "user_profiles.groupby('cluster')['avg_days_between_orders'].mean()"
   ]
  },
  {
   "cell_type": "markdown",
   "id": "fe57067f-224f-4ee3-9b81-1c5a1e8cb77c",
   "metadata": {},
   "source": [
    "- Buyers from cluster 1 are tend to be weekly buyers.\n",
    "- Likewise, Buyers from cluster 4 are monthly shoppers, they have tendency to order items between 19-20 days.\n",
    "- Other clusters don't have any specific buying patterns. They normally order between 10-13 days."
   ]
  },
  {
   "cell_type": "code",
   "execution_count": 36,
   "id": "80331af5-e92b-4713-a73a-5a39816a98fe",
   "metadata": {},
   "outputs": [
    {
     "data": {
      "text/plain": [
       "cluster\n",
       "0    0.0\n",
       "1    0.0\n",
       "2    0.0\n",
       "3    0.0\n",
       "Name: weekend_shopper_percentage, dtype: float64"
      ]
     },
     "execution_count": 36,
     "metadata": {},
     "output_type": "execute_result"
    }
   ],
   "source": [
    "most_frequent_values = user_profiles.groupby('cluster')['weekend_shopper_percentage'].agg(lambda x: x.mode().iloc[0])\n",
    "most_frequent_values"
   ]
  },
  {
   "cell_type": "markdown",
   "id": "dd471a70-a164-4ccd-8282-7db90dbda3b3",
   "metadata": {},
   "source": [
    "buyers from all clusters seems to order more likely on weekdays."
   ]
  },
  {
   "cell_type": "code",
   "execution_count": 37,
   "id": "185e333b-3489-4f2e-9619-725e2ddf705b",
   "metadata": {},
   "outputs": [
    {
     "data": {
      "text/plain": [
       "cluster\n",
       "0    10.064181\n",
       "1    42.878124\n",
       "2     7.058177\n",
       "3     9.621026\n",
       "Name: total_orders, dtype: float64"
      ]
     },
     "execution_count": 37,
     "metadata": {},
     "output_type": "execute_result"
    }
   ],
   "source": [
    "user_profiles.groupby('cluster')['total_orders'].agg(lambda x: x.mean())"
   ]
  },
  {
   "cell_type": "markdown",
   "id": "d2d70a87-c8f3-4ce2-9de1-6eadae6f9f0a",
   "metadata": {},
   "source": [
    "Buyers in Cluster 1 exhibit high purchasing activity across a wide range of items, demonstrating strong loyalty and consistent engagement."
   ]
  },
  {
   "cell_type": "code",
   "execution_count": 38,
   "id": "34801c52-8e59-49a7-a4c7-3381ce3edd22",
   "metadata": {},
   "outputs": [
    {
     "data": {
      "text/html": [
       "<div>\n",
       "<style scoped>\n",
       "    .dataframe tbody tr th:only-of-type {\n",
       "        vertical-align: middle;\n",
       "    }\n",
       "\n",
       "    .dataframe tbody tr th {\n",
       "        vertical-align: top;\n",
       "    }\n",
       "\n",
       "    .dataframe thead th {\n",
       "        text-align: right;\n",
       "    }\n",
       "</style>\n",
       "<table border=\"1\" class=\"dataframe\">\n",
       "  <thead>\n",
       "    <tr style=\"text-align: right;\">\n",
       "      <th></th>\n",
       "      <th>repeat_purchase_percentage</th>\n",
       "    </tr>\n",
       "    <tr>\n",
       "      <th>cluster</th>\n",
       "      <th></th>\n",
       "    </tr>\n",
       "  </thead>\n",
       "  <tbody>\n",
       "    <tr>\n",
       "      <th>0</th>\n",
       "      <td>21.106036</td>\n",
       "    </tr>\n",
       "    <tr>\n",
       "      <th>1</th>\n",
       "      <td>48.412412</td>\n",
       "    </tr>\n",
       "    <tr>\n",
       "      <th>2</th>\n",
       "      <td>15.984181</td>\n",
       "    </tr>\n",
       "    <tr>\n",
       "      <th>3</th>\n",
       "      <td>20.342600</td>\n",
       "    </tr>\n",
       "  </tbody>\n",
       "</table>\n",
       "</div>"
      ],
      "text/plain": [
       "         repeat_purchase_percentage\n",
       "cluster                            \n",
       "0                         21.106036\n",
       "1                         48.412412\n",
       "2                         15.984181\n",
       "3                         20.342600"
      ]
     },
     "execution_count": 38,
     "metadata": {},
     "output_type": "execute_result"
    }
   ],
   "source": [
    "# repeat_purchase_percentage\n",
    "pd.DataFrame(user_profiles.groupby('cluster')['repeat_purchase_percentage'].mean())"
   ]
  },
  {
   "cell_type": "code",
   "execution_count": 39,
   "id": "67ccd31b-2fe7-481c-9a23-0d8444c9b890",
   "metadata": {},
   "outputs": [],
   "source": [
    "# dfi.export(rppc,\"mytable.png\")"
   ]
  },
  {
   "cell_type": "markdown",
   "id": "b72b39cf-d4c5-439a-9eed-cd1a8392bc21",
   "metadata": {},
   "source": [
    "- Buyers in cluster 0 and 1 have 43% and 53% tendency to repeat their previous orders.\n",
    "- Clusters 3,4 and 5 have repeat purchase percentages of 15-16% respectively, which are among the lowest. These clusters likely represent more transient customers who are less loyal, possibly only purchasing occasionally."
   ]
  },
  {
   "cell_type": "code",
   "execution_count": 40,
   "id": "4f645d16-c9bb-46e6-9527-50165a4f259d",
   "metadata": {},
   "outputs": [
    {
     "data": {
      "text/plain": [
       "cluster\n",
       "0    13.0\n",
       "1    13.0\n",
       "2    14.0\n",
       "3    13.0\n",
       "Name: avg_purchase_hour, dtype: float64"
      ]
     },
     "execution_count": 40,
     "metadata": {},
     "output_type": "execute_result"
    }
   ],
   "source": [
    "# avg_purchase_hour\n",
    "user_profiles.groupby('cluster')['avg_purchase_hour'].agg(lambda x: x.mode().iloc[0])"
   ]
  },
  {
   "cell_type": "markdown",
   "id": "7cfdbbc5-9f7e-4114-97d9-6317fb09c47c",
   "metadata": {
    "jp-MarkdownHeadingCollapsed": true
   },
   "source": [
    "#### DBScan"
   ]
  },
  {
   "cell_type": "code",
   "execution_count": 41,
   "id": "31f3ec4b-05ce-4008-b912-1c5a8d676021",
   "metadata": {},
   "outputs": [
    {
     "data": {
      "text/plain": [
       "dbscan_cluster\n",
       "-1    206087\n",
       " 6        20\n",
       " 4        16\n",
       " 1        15\n",
       " 0        14\n",
       " 2        13\n",
       " 5        12\n",
       " 8        12\n",
       " 3        10\n",
       " 7        10\n",
       "Name: count, dtype: int64"
      ]
     },
     "execution_count": 41,
     "metadata": {},
     "output_type": "execute_result"
    }
   ],
   "source": [
    "dbscan = DBSCAN(eps=0.3, min_samples=10)\n",
    "\n",
    "user_profiles['dbscan_cluster'] = dbscan.fit_predict(scaled_features)\n",
    "user_profiles['dbscan_cluster'].value_counts()"
   ]
  },
  {
   "cell_type": "markdown",
   "id": "32ab652d-84cc-4b93-9024-e476096f42f4",
   "metadata": {},
   "source": [
    "#### GMM"
   ]
  },
  {
   "cell_type": "code",
   "execution_count": null,
   "id": "00a654c8-ef8a-4705-bd95-e9130bc3d75b",
   "metadata": {},
   "outputs": [],
   "source": [
    "n_components_range = range(2, 10)\n",
    "bics = []\n",
    "silhouette_scores = []\n",
    "\n",
    "for n in n_components_range:\n",
    "    gmm = GaussianMixture(n_components=n, random_state=42)\n",
    "    gmm.fit(scaled_features)\n",
    "    bics.append(gmm.bic(scaled_features))\n",
    "\n",
    "    labels = gmm.predict(scaled_features)\n",
    "    score = silhouette_score(scaled_features, labels)\n",
    "    silhouette_scores.append(score)"
   ]
  },
  {
   "cell_type": "code",
   "execution_count": null,
   "id": "d91f632c-fdd2-4e21-91ca-dba95d6ff698",
   "metadata": {},
   "outputs": [],
   "source": [
    "fig, ax1 = plt.subplots(figsize=(8, 6))\n",
    "\n",
    "ax1.set_xlabel(\"Number of Components\")\n",
    "ax1.set_ylabel(\"BIC\", color=\"tab:blue\")\n",
    "ax1.plot(n_components_range, bics, marker='o', label='BIC', color=\"tab:blue\")\n",
    "ax1.tick_params(axis=\"y\", labelcolor=\"tab:blue\")\n",
    "\n",
    "ax2 = ax1.twinx()\n",
    "ax2.set_ylabel(\"Silhouette Score\", color=\"tab:orange\")\n",
    "ax2.plot(n_components_range, silhouette_scores, marker='o', label='Silhouette Score', color=\"tab:orange\")\n",
    "ax2.tick_params(axis=\"y\", labelcolor=\"tab:orange\")\n",
    "\n",
    "fig.tight_layout()\n",
    "plt.title(\"BIC and Silhouette Scores for Different Number of Components\")\n",
    "plt.show()"
   ]
  },
  {
   "cell_type": "code",
   "execution_count": null,
   "id": "749946af-4df9-4106-ad87-7f0b9b02ab1a",
   "metadata": {},
   "outputs": [],
   "source": [
    "labels"
   ]
  },
  {
   "cell_type": "code",
   "execution_count": null,
   "id": "e66ea5b9-a5ce-414e-beae-ca174c4badad",
   "metadata": {},
   "outputs": [],
   "source": [
    "gmm = GaussianMixture(n_components=5, random_state=42)\n",
    "gmm.fit(scaled_features)\n",
    "\n",
    "user_profiles['gmm_cluster'] = gmm.predict(scaled_features)\n",
    "# Assuming 'gmm' is your fitted GMM model and 'df' is your DataFrame with data points\n",
    "probabilities = gmm.predict_proba(scaled_features)\n",
    "\n",
    "# Create empty lists to store the top 3 clusters and probabilities for each point\n",
    "top_2_clusters = []\n",
    "top_2_probabilities = []\n",
    "\n",
    "for prob in probabilities:\n",
    "    # Get the indices of the top 3 clusters and their corresponding probabilities\n",
    "    top_indices = np.argsort(prob)[::-1][:2]  # Sort probabilities in descending order and get top 3\n",
    "    top_probs = prob[top_indices]\n",
    "    \n",
    "    # Round the probabilities to 2 decimal places\n",
    "    top_probs_rounded = np.round(top_probs * 100, 2)  # Convert to percentages and round\n",
    "    \n",
    "    # Store the results for the current data point\n",
    "    top_2_clusters.append(top_indices)\n",
    "    top_2_probabilities.append(top_probs_rounded)\n",
    "\n",
    "# Add the top 3 clusters and their probabilities to the DataFrame\n",
    "user_profiles[['Top Cluster 1', 'Top Cluster 2']] = pd.DataFrame(top_2_clusters, index=user_profiles.index)\n",
    "user_profiles[['Top Cluster 1 Probability (%)', 'Top Cluster 2 Probability (%)']] = pd.DataFrame(top_2_probabilities, index=user_profiles.index)\n",
    "\n",
    "# Now your DataFrame has the top 3 clusters and their probabilities for each data poin"
   ]
  },
  {
   "cell_type": "code",
   "execution_count": null,
   "id": "4b33ca4e-8807-4d52-8eef-18b10a507f1e",
   "metadata": {},
   "outputs": [],
   "source": [
    "# user_profiles.drop(columns=['Top Cluster 3'], inplace=True)"
   ]
  },
  {
   "cell_type": "code",
   "execution_count": null,
   "id": "08ae50f3-9f9a-4730-9935-b6951593d60a",
   "metadata": {},
   "outputs": [],
   "source": [
    "user_profiles.head(15)"
   ]
  },
  {
   "cell_type": "code",
   "execution_count": null,
   "id": "0cd8b4f9-5abc-43d3-9b28-6e0ca1414cf5",
   "metadata": {},
   "outputs": [],
   "source": [
    "user_profiles.groupby('cluster')['unique_products'].mean()"
   ]
  },
  {
   "cell_type": "code",
   "execution_count": null,
   "id": "5e504572-69a7-45d7-9644-01ea6e52f847",
   "metadata": {},
   "outputs": [],
   "source": [
    "user_profiles.groupby('cluster')['basket_size'].agg('mean')"
   ]
  },
  {
   "cell_type": "code",
   "execution_count": null,
   "id": "3c8a9fc1-cf96-4563-b173-d12b34dcb991",
   "metadata": {},
   "outputs": [],
   "source": [
    "most_bought_by_cluster = user_profiles.groupby('cluster')['most_frequent_dept'].agg(lambda x: x.value_counts().idxmax())\n",
    "display(pd.DataFrame(most_bought_by_cluster).merge(\n",
    "    df_departments,left_on='most_frequent_dept', right_on='department_id', how='left'\n",
    ").drop(columns=['department_id']))\n",
    "\n",
    "\n",
    "data = []\n",
    "\n",
    "def fn(x):\n",
    "    data.append({\n",
    "        \"most bought aisle\" : df_aisles[df_aisles.aisle_id == x.value_counts().index[0]]['aisle'].values[0] if len(x.value_counts()) > 1 else None,\n",
    "        \"second most bought aisle\" : df_aisles[df_aisles.aisle_id == x.value_counts().index[1]]['aisle'].values[0] if len(x.value_counts()) > 1 else None, \n",
    "        \"third most bought aisle\" : df_aisles[df_aisles.aisle_id == x.value_counts().index[2]]['aisle'].values[0] if len(x.value_counts()) > 2 else None,\n",
    "        \"fourth most bought aisle\" : df_aisles[df_aisles.aisle_id == x.value_counts().index[3]]['aisle'].values[0] if len(x.value_counts()) > 3 else None\n",
    "    })\n",
    "\n",
    "user_profiles.groupby('cluster')['most_frequent_aisle'].agg(fn)\n",
    "pd.DataFrame(data)"
   ]
  },
  {
   "cell_type": "code",
   "execution_count": null,
   "id": "a12f9ff2-212c-49a6-88af-a7abdd0db895",
   "metadata": {},
   "outputs": [],
   "source": [
    "# avg_purchase_hour\n",
    "user_profiles.groupby('cluster')['avg_purchase_hour'].agg(lambda x: x.mode().iloc[0])"
   ]
  },
  {
   "cell_type": "code",
   "execution_count": null,
   "id": "aafc9189-38da-46d9-bad6-ebf44e77aca4",
   "metadata": {},
   "outputs": [],
   "source": [
    "# repeat_purchase_percentage\n",
    "pd.DataFrame(user_profiles.groupby('cluster')['repeat_purchase_percentage'].mean())"
   ]
  },
  {
   "cell_type": "code",
   "execution_count": null,
   "id": "1f93fddd-3712-46c9-a0f7-780a9b7d2d6f",
   "metadata": {},
   "outputs": [],
   "source": [
    "most_frequent_values = user_profiles.groupby('cluster')['weekend_shopper_percentage'].agg(lambda x: x.mode().iloc[0])\n",
    "most_frequent_values"
   ]
  },
  {
   "cell_type": "code",
   "execution_count": null,
   "id": "f26a1087-2dd7-410e-8b57-4b5719dc1729",
   "metadata": {},
   "outputs": [],
   "source": [
    "feature_set = [\n",
    " 'total_orders',\n",
    " 'avg_days_between_orders',\n",
    " 'unique_products',\n",
    " 'basket_size',\n",
    " 'repeat_purchase_percentage',\n",
    " 'avg_purchase_hour',\n",
    " 'weekend_shopper_percentage',\n",
    " 'is_weekend']\n",
    "\n",
    "cluster_means = user_profiles.groupby('gmm_cluster')[feature_set].mean()\n",
    "normalized_means = (cluster_means - cluster_means.min()) / (cluster_means.max() - cluster_means.min())\n",
    "\n",
    "labels = feature_set\n",
    "num_vars = len(labels)\n",
    "angles = np.linspace(0, 2 * np.pi, num_vars, endpoint=False).tolist()\n",
    "angles += angles[:1] \n",
    "\n",
    "\n",
    "fig, ax = plt.subplots(figsize=(6, 6), subplot_kw=dict(polar=True))\n",
    "for cluster in normalized_means.index:\n",
    "    values = normalized_means.loc[cluster].tolist()\n",
    "    values += values[:1] \n",
    "    ax.plot(angles, values, label=f'Cluster {cluster}')\n",
    "    ax.fill(angles, values, alpha=0.25)\n",
    "\n",
    "ax.set_theta_offset(np.pi / 2)\n",
    "ax.set_theta_direction(-1)\n",
    "ax.set_xticks(angles[:-1])\n",
    "ax.set_xticklabels(labels)\n",
    "ax.set_yticks([0.2, 0.5, 0.8])\n",
    "ax.set_yticklabels(['0.2', '0.5', '0.8'], color=\"grey\", size=8)\n",
    "ax.set_ylim(0, 1)\n",
    "\n",
    "\n",
    "ax.legend(loc='upper right', bbox_to_anchor=(1.3, 1.1))\n",
    "plt.title('Radar Plot of Cluster Means', size=14, y=1.1)\n",
    "plt.show()"
   ]
  },
  {
   "cell_type": "code",
   "execution_count": null,
   "id": "7492994b-a81c-4ce5-8cae-f2b50ad83aba",
   "metadata": {},
   "outputs": [],
   "source": [
    "user_profiles[user_profiles.cluster == 1]"
   ]
  }
 ],
 "metadata": {
  "kernelspec": {
   "display_name": "Python 3 (ipykernel)",
   "language": "python",
   "name": "python3"
  },
  "language_info": {
   "codemirror_mode": {
    "name": "ipython",
    "version": 3
   },
   "file_extension": ".py",
   "mimetype": "text/x-python",
   "name": "python",
   "nbconvert_exporter": "python",
   "pygments_lexer": "ipython3",
   "version": "3.9.19"
  }
 },
 "nbformat": 4,
 "nbformat_minor": 5
}
